{
 "cells": [
  {
   "cell_type": "markdown",
   "metadata": {},
   "source": [
    "# インポート等（基本的なもの以外は各セクションで実施）"
   ]
  },
  {
   "cell_type": "code",
   "execution_count": 1,
   "metadata": {},
   "outputs": [],
   "source": [
    "import numpy as np\n",
    "import pandas as pd\n",
    "from matplotlib import pyplot as plt\n",
    "%matplotlib inline\n",
    "import seaborn as sns\n",
    "\n",
    "import warnings\n",
    "warnings.simplefilter('ignore')\n",
    "\n",
    "train = pd.read_csv('train.csv')\n",
    "test = pd.read_csv('test.csv')"
   ]
  },
  {
   "cell_type": "markdown",
   "metadata": {},
   "source": [
    "# ターゲットエンコーディングのスムージング"
   ]
  },
  {
   "cell_type": "markdown",
   "metadata": {},
   "source": [
    "## クラス"
   ]
  },
  {
   "cell_type": "code",
   "execution_count": 2,
   "metadata": {},
   "outputs": [],
   "source": [
    "class TargetEncoding_ws(object):\n",
    "    \"\"\"\n",
    "    DFと変換したいカラムリスト、targetを引数として、Target Encoding with Smoothingを行う\n",
    "    引数\n",
    "    dataframe : DF全体 (pd.DataFrame)\n",
    "    target : 目的変数のカラム (np.ndarray or np.Series)\n",
    "    list_cols : 変換したいカラムリスト (list[str])\n",
    "    k : smoothingのハイパーパラメータ (int)\n",
    "    impute : 未知のカテゴリに平均を入れるか (boolean)\n",
    "    \"\"\"\n",
    "    def __init__(self, list_cols, k=100, impute=True):\n",
    "        self.df = None\n",
    "        self.target = None\n",
    "        self.list_cols = list_cols\n",
    "        self.k = k\n",
    "        self.impute = impute\n",
    "        self.target_map = {}\n",
    "        self.target_mean = None\n",
    "\n",
    "    def sigmoid(self, x, k):\n",
    "        return 1 / (1 + np.exp(- x / k))\n",
    "\n",
    "    def fit_univariate(self, target, col):\n",
    "        \"\"\"\n",
    "        一つの変数に対するTarget_Encoding\n",
    "        col : TargetEncodingしたい変数名\n",
    "        \"\"\"\n",
    "        df = self.df.copy()\n",
    "        k = self.k\n",
    "        df[\"target\"] = target\n",
    "        n_i = df.groupby(col).count()[\"target\"]\n",
    "\n",
    "        lambda_n_i = self.sigmoid(n_i, k)\n",
    "        uni_map = df.groupby(col).mean()[\"target\"]\n",
    "\n",
    "        return lambda_n_i * df.loc[:, \"target\"].mean() + (1 - lambda_n_i) * uni_map\n",
    "\n",
    "    def fit(self, data, target, list_cols):\n",
    "        \"\"\"\n",
    "        複数カラムにも対応したTargetEncoding\n",
    "        \"\"\"\n",
    "        self.df = data.copy()\n",
    "        self.target = target\n",
    "\n",
    "        if self.impute == True:\n",
    "            self.target_mean = target.mean()\n",
    "\n",
    "        #各カラムのmapを保存\n",
    "        for col in list_cols:\n",
    "            self.target_map[col] = self.fit_univariate(target, col)\n",
    "\n",
    "    def transform(self, x):\n",
    "        list_cols = self.list_cols\n",
    "        x_d = x.copy()\n",
    "        for col in list_cols:\n",
    "            x_d.loc[:, col] = x_d.loc[:, col].map(self.target_map[col])\n",
    "\n",
    "            #impute\n",
    "            if self.impute == True:\n",
    "                x_d.loc[:, col] = np.where(x_d.loc[:, col].isnull(), self.target_mean, x_d.loc[:, col])\n",
    "\n",
    "        return x_d"
   ]
  },
  {
   "cell_type": "markdown",
   "metadata": {},
   "source": [
    "## データ加工"
   ]
  },
  {
   "cell_type": "code",
   "execution_count": 3,
   "metadata": {},
   "outputs": [
    {
     "data": {
      "text/html": [
       "<div>\n",
       "<style scoped>\n",
       "    .dataframe tbody tr th:only-of-type {\n",
       "        vertical-align: middle;\n",
       "    }\n",
       "\n",
       "    .dataframe tbody tr th {\n",
       "        vertical-align: top;\n",
       "    }\n",
       "\n",
       "    .dataframe thead th {\n",
       "        text-align: right;\n",
       "    }\n",
       "</style>\n",
       "<table border=\"1\" class=\"dataframe\">\n",
       "  <thead>\n",
       "    <tr style=\"text-align: right;\">\n",
       "      <th></th>\n",
       "      <th>Pclass</th>\n",
       "      <th>Sex</th>\n",
       "      <th>Age</th>\n",
       "      <th>SibSp</th>\n",
       "      <th>Parch</th>\n",
       "      <th>Fare</th>\n",
       "      <th>Cabin</th>\n",
       "      <th>Embarked</th>\n",
       "    </tr>\n",
       "  </thead>\n",
       "  <tbody>\n",
       "    <tr>\n",
       "      <th>0</th>\n",
       "      <td>3</td>\n",
       "      <td>male</td>\n",
       "      <td>22.0</td>\n",
       "      <td>1</td>\n",
       "      <td>0</td>\n",
       "      <td>7.2500</td>\n",
       "      <td>NaN</td>\n",
       "      <td>S</td>\n",
       "    </tr>\n",
       "    <tr>\n",
       "      <th>1</th>\n",
       "      <td>1</td>\n",
       "      <td>female</td>\n",
       "      <td>38.0</td>\n",
       "      <td>1</td>\n",
       "      <td>0</td>\n",
       "      <td>71.2833</td>\n",
       "      <td>C85</td>\n",
       "      <td>C</td>\n",
       "    </tr>\n",
       "    <tr>\n",
       "      <th>2</th>\n",
       "      <td>3</td>\n",
       "      <td>female</td>\n",
       "      <td>26.0</td>\n",
       "      <td>0</td>\n",
       "      <td>0</td>\n",
       "      <td>7.9250</td>\n",
       "      <td>NaN</td>\n",
       "      <td>S</td>\n",
       "    </tr>\n",
       "  </tbody>\n",
       "</table>\n",
       "</div>"
      ],
      "text/plain": [
       "   Pclass     Sex   Age  SibSp  Parch     Fare Cabin Embarked\n",
       "0       3    male  22.0      1      0   7.2500   NaN        S\n",
       "1       1  female  38.0      1      0  71.2833   C85        C\n",
       "2       3  female  26.0      0      0   7.9250   NaN        S"
      ]
     },
     "metadata": {},
     "output_type": "display_data"
    },
    {
     "data": {
      "text/html": [
       "<div>\n",
       "<style scoped>\n",
       "    .dataframe tbody tr th:only-of-type {\n",
       "        vertical-align: middle;\n",
       "    }\n",
       "\n",
       "    .dataframe tbody tr th {\n",
       "        vertical-align: top;\n",
       "    }\n",
       "\n",
       "    .dataframe thead th {\n",
       "        text-align: right;\n",
       "    }\n",
       "</style>\n",
       "<table border=\"1\" class=\"dataframe\">\n",
       "  <thead>\n",
       "    <tr style=\"text-align: right;\">\n",
       "      <th></th>\n",
       "      <th>Pclass</th>\n",
       "      <th>Sex</th>\n",
       "      <th>Age</th>\n",
       "      <th>SibSp</th>\n",
       "      <th>Parch</th>\n",
       "      <th>Fare</th>\n",
       "      <th>Cabin</th>\n",
       "      <th>Embarked</th>\n",
       "    </tr>\n",
       "  </thead>\n",
       "  <tbody>\n",
       "    <tr>\n",
       "      <th>0</th>\n",
       "      <td>3</td>\n",
       "      <td>male</td>\n",
       "      <td>34.5</td>\n",
       "      <td>0</td>\n",
       "      <td>0</td>\n",
       "      <td>7.8292</td>\n",
       "      <td>NaN</td>\n",
       "      <td>Q</td>\n",
       "    </tr>\n",
       "    <tr>\n",
       "      <th>1</th>\n",
       "      <td>3</td>\n",
       "      <td>female</td>\n",
       "      <td>47.0</td>\n",
       "      <td>1</td>\n",
       "      <td>0</td>\n",
       "      <td>7.0000</td>\n",
       "      <td>NaN</td>\n",
       "      <td>S</td>\n",
       "    </tr>\n",
       "    <tr>\n",
       "      <th>2</th>\n",
       "      <td>2</td>\n",
       "      <td>male</td>\n",
       "      <td>62.0</td>\n",
       "      <td>0</td>\n",
       "      <td>0</td>\n",
       "      <td>9.6875</td>\n",
       "      <td>NaN</td>\n",
       "      <td>Q</td>\n",
       "    </tr>\n",
       "  </tbody>\n",
       "</table>\n",
       "</div>"
      ],
      "text/plain": [
       "   Pclass     Sex   Age  SibSp  Parch    Fare Cabin Embarked\n",
       "0       3    male  34.5      0      0  7.8292   NaN        Q\n",
       "1       3  female  47.0      1      0  7.0000   NaN        S\n",
       "2       2    male  62.0      0      0  9.6875   NaN        Q"
      ]
     },
     "metadata": {},
     "output_type": "display_data"
    }
   ],
   "source": [
    "train_X = train.drop(['PassengerId', 'Survived', 'Name', 'Ticket'], axis=1)\n",
    "train_y = train['Survived']\n",
    "test_X = test.drop(['PassengerId', 'Name', 'Ticket'], axis=1)\n",
    "\n",
    "display(train_X.head(3))\n",
    "display(test_X.head(3))"
   ]
  },
  {
   "cell_type": "markdown",
   "metadata": {},
   "source": [
    "# バリデーション"
   ]
  },
  {
   "cell_type": "code",
   "execution_count": 4,
   "metadata": {},
   "outputs": [],
   "source": [
    "from sklearn.model_selection import StratifiedKFold\n",
    "\n",
    "kf = StratifiedKFold(n_splits=5, shuffle=True, random_state=0)"
   ]
  },
  {
   "cell_type": "markdown",
   "metadata": {},
   "source": [
    "# スムーズド・ターゲットエンコーディング "
   ]
  },
  {
   "cell_type": "code",
   "execution_count": 5,
   "metadata": {},
   "outputs": [],
   "source": [
    "def smoothed_target_encoding(x_train, y_train, fold, categorical_col):\n",
    "    te = TargetEncoding_ws(categorical_col, k=200, impute=False)\n",
    "    \n",
    "    tr_list = []\n",
    "    for i, (tr_idx, va_idx) in enumerate(fold.split(x_train, y_train)):\n",
    "        tr_x, va_x = x_train.iloc[tr_idx], x_train.iloc[va_idx]\n",
    "        tr_y, va_y = y_train.iloc[tr_idx], y_train.iloc[va_idx]\n",
    "\n",
    "        te.fit(tr_x, tr_y, categorical_col)\n",
    "        va_x_tar = te.transform(va_x)\n",
    "\n",
    "        tr_list.append(va_x_tar)\n",
    "\n",
    "    x_train_tar = pd.concat(tr_list).sort_index()\n",
    "    return x_train_tar"
   ]
  },
  {
   "cell_type": "markdown",
   "metadata": {},
   "source": [
    "# Optuna"
   ]
  },
  {
   "cell_type": "code",
   "execution_count": 6,
   "metadata": {},
   "outputs": [],
   "source": [
    "import sklearn.datasets\n",
    "import optuna.integration.lightgbm as oputunalgb\n",
    "\n",
    "def get_bestparams_optuna(x_train, y_train, fold):\n",
    "    trainval = lgb.Dataset(train_X_tar, train_y)\n",
    "    params = {'objective' : 'binary',\n",
    "              'metric': 'binary_logloss',\n",
    "              'random_seed':0} \n",
    "\n",
    "    tuner = oputunalgb.LightGBMTunerCV(params, trainval, verbose_eval=100, early_stopping_rounds=100, folds=kf)\n",
    "    tuner.run()\n",
    "\n",
    "    best_params = tuner.best_params\n",
    "    print('='*200)\n",
    "    print(best_params)\n",
    "    return best_params"
   ]
  },
  {
   "cell_type": "markdown",
   "metadata": {},
   "source": [
    "# LGBM"
   ]
  },
  {
   "cell_type": "code",
   "execution_count": 7,
   "metadata": {},
   "outputs": [],
   "source": [
    "from sklearn.metrics import roc_auc_score, precision_score, recall_score\n",
    "import lightgbm as lgb\n",
    "\n",
    "def predict_cv(model, x_train, y_train, x_test, fold, categorical_col):\n",
    "    preds = []\n",
    "    preds_test = []\n",
    "    preds_proba = []\n",
    "    preds_test_proba = []\n",
    "    va_indexes = []\n",
    "    train_AUC_score = []\n",
    "    train_precision_score = []\n",
    "    train_recall_score = []\n",
    "    \n",
    "    feature_importance_df = pd.DataFrame()\n",
    "    col = list(x_train.columns)\n",
    "    feat_df = pd.DataFrame()\n",
    "    \n",
    "    # クロスバリデーションで学習・予測を行い、予測値とインデックスを保存する\n",
    "    te = TargetEncoding_ws(list_cols=categorical_col, k=200, impute=False)\n",
    "    \n",
    "    tr_list = []\n",
    "    for i, (tr_idx, va_idx) in enumerate(fold.split(x_train, y_train)):\n",
    "        tr_x, va_x = x_train.iloc[tr_idx], x_train.iloc[va_idx]\n",
    "        tr_y, va_y = y_train.iloc[tr_idx], y_train.iloc[va_idx]\n",
    "\n",
    "        te.fit(tr_x, tr_y, categorical_col)\n",
    "        \n",
    "        tr_x_tar = te.transform(tr_x)\n",
    "        va_x_tar = te.transform(va_x)      \n",
    "        test_x_tar = te.transform(x_test)\n",
    "        \n",
    "        model.fit(tr_x_tar, tr_y, \n",
    "                  eval_set= [(tr_x_tar, tr_y), (va_x_tar, va_y)],\n",
    "                  eval_metric='binary_logloss',\n",
    "                  verbose=100, \n",
    "                  early_stopping_rounds=20)\n",
    "        \n",
    "        \n",
    "        tr_pred_proba = model.predict_proba(tr_x_tar)[:, 1]\n",
    "        pred_proba = model.predict_proba(va_x_tar)[:, 1]\n",
    "        preds_proba.append(pred_proba)\n",
    "        pred_test_proba = model.predict_proba(test_x_tar)[:, 1]\n",
    "        preds_test_proba.append(pred_test_proba)\n",
    "        va_indexes.append(va_idx)\n",
    "        \n",
    "        tr_pred = model.predict(tr_x_tar)\n",
    "        pred = model.predict(va_x_tar)\n",
    "        preds.append(pred)\n",
    "        pred_test = model.predict(test_x_tar)\n",
    "        preds_test.append(pred_test)\n",
    "        \n",
    "        fold_feat_df = pd.DataFrame()\n",
    "        fold_feat_df[\"Feature_fold{}\".format(i)] = col\n",
    "        fold_feat_df[\"Importance_fold{}\".format(i)] = model.feature_importances_\n",
    "        feat_df = pd.concat([feat_df, fold_feat_df], axis=1)\n",
    "        print('  score AUC Train : {:.6f}' .format(roc_auc_score(tr_y, tr_pred_proba)), \n",
    "              '  score AUC Valid : {:.6f}' .format(roc_auc_score(va_y, pred_proba)))\n",
    "        print('  score precision Train : {:.6f}' .format(precision_score(tr_y, tr_pred)), \n",
    "              '  score precision Valid : {:.6f}' .format(precision_score(va_y, pred)))\n",
    "        print('  score recall Train : {:.6f}' .format(recall_score(tr_y, tr_pred)), \n",
    "              '  score recall Valid : {:.6f}' .format(recall_score(va_y, pred)))\n",
    "        train_AUC_score.append(roc_auc_score(tr_y, tr_pred))\n",
    "        train_precision_score.append(precision_score(tr_y, tr_pred))\n",
    "        train_recall_score.append(recall_score(tr_y, tr_pred))\n",
    "        \n",
    "    # バリデーションデータに対する予測値を連結し、その後元の順番に並べなおす\n",
    "    va_indexes = np.concatenate(va_indexes)\n",
    "    preds = np.concatenate(preds, axis=0)\n",
    "    order = np.argsort(va_indexes)\n",
    "    pred_train = pd.DataFrame(preds[order])\n",
    "    \n",
    "    \n",
    "    # テストデータに対する予測値の平均をとる\n",
    "    preds_test = pd.DataFrame(np.mean(preds_test, axis=0))\n",
    "    train_AUC_score_ = np.mean(train_AUC_score)\n",
    "    train_precision_score_ = np.mean(train_precision_score)\n",
    "    train_recall_score_ = np.mean(train_recall_score)\n",
    "    print('*'*40)\n",
    "    print('train AUC Score : {:.6f}' .format(train_AUC_score_))\n",
    "    print('valid AUC Score : {:.6f}' .format(roc_auc_score(train_y, pred_train)))\n",
    "    print('train AUC Score - valid Score : {:.6f}'.format(train_AUC_score_ - roc_auc_score(train_y, pred_train)))\n",
    "    \n",
    "    print('train precision Score : {:.6f}' .format(train_precision_score_))\n",
    "    print('valid precision Score : {:.6f}' .format(precision_score(train_y, pred_train)))\n",
    "    print('train precision Score - valid Score : {:.6f}'.format(train_precision_score_ - precision_score(train_y, pred_train)))\n",
    "    \n",
    "    print('train recall Score : {:.6f}' .format(train_recall_score_))\n",
    "    print('valid recall Score : {:.6f}' .format(recall_score(train_y, pred_train)))\n",
    "    print('train recall Score - valid Score : {:.6f}'.format(train_recall_score_ - recall_score(train_y, pred_train)))\n",
    "    \n",
    "    a = feat_df[[\"Feature_fold0\",\"Importance_fold0\"]]\n",
    "    b = feat_df[[\"Feature_fold1\",\"Importance_fold1\"]].rename(columns={\"Feature_fold1\":\"Feature_fold0\", \"Importance_fold1\":\"Importance_fold0\"})\n",
    "    c = feat_df[[\"Feature_fold2\",\"Importance_fold2\"]].rename(columns={\"Feature_fold2\":\"Feature_fold0\", \"Importance_fold2\":\"Importance_fold0\"})\n",
    "    d = feat_df[[\"Feature_fold3\",\"Importance_fold3\"]].rename(columns={\"Feature_fold3\":\"Feature_fold0\", \"Importance_fold3\":\"Importance_fold0\"})\n",
    "    e = feat_df[[\"Feature_fold4\",\"Importance_fold4\"]].rename(columns={\"Feature_fold4\":\"Feature_fold0\", \"Importance_fold4\":\"Importance_fold0\"})\n",
    "    \n",
    "    feat = pd.concat([a, b, c, d, e]).reset_index()\n",
    "    indices = feat.groupby(\"Feature_fold0\")[\"Importance_fold0\"].agg(\"mean\").reset_index().sort_values(\"Importance_fold0\", ascending=False)[[\"Feature_fold0\",'Importance_fold0']]\n",
    "    plt.figure(figsize=(14, 4))\n",
    "    plt.title(\"重要度上位50\")\n",
    "    sns.barplot(x=\"Importance_fold0\", y=\"Feature_fold0\", data=feat, order=indices.iloc[:50, 0])\n",
    "    plt.show()\n",
    "    \n",
    "    return pred_train, preds_test, model"
   ]
  },
  {
   "cell_type": "code",
   "execution_count": 8,
   "metadata": {
    "scrolled": true
   },
   "outputs": [
    {
     "name": "stderr",
     "output_type": "stream",
     "text": [
      "feature_fraction, val_score: inf:   0%|                                                          | 0/7 [00:00<?, ?it/s]"
     ]
    },
    {
     "name": "stdout",
     "output_type": "stream",
     "text": [
      "[100]\tcv_agg's binary_logloss: 0.582001 + 0.196776\n"
     ]
    },
    {
     "name": "stderr",
     "output_type": "stream",
     "text": [
      "feature_fraction, val_score: 0.483772:  14%|######4                                      | 1/7 [00:00<00:03,  1.71it/s][I 2021-03-14 16:39:13,420] Trial 0 finished with value: 0.48377199025207107 and parameters: {'feature_fraction': 1.0}. Best is trial 0 with value: 0.48377199025207107.\n",
      "feature_fraction, val_score: 0.483772:  14%|######4                                      | 1/7 [00:00<00:03,  1.71it/s]"
     ]
    },
    {
     "name": "stdout",
     "output_type": "stream",
     "text": [
      "[100]\tcv_agg's binary_logloss: 0.566286 + 0.189419\n"
     ]
    },
    {
     "name": "stderr",
     "output_type": "stream",
     "text": [
      "feature_fraction, val_score: 0.475648:  29%|############8                                | 2/7 [00:01<00:02,  1.75it/s][I 2021-03-14 16:39:13,962] Trial 1 finished with value: 0.4756478012705685 and parameters: {'feature_fraction': 0.8999999999999999}. Best is trial 1 with value: 0.4756478012705685.\n",
      "feature_fraction, val_score: 0.475648:  29%|############8                                | 2/7 [00:01<00:02,  1.75it/s]"
     ]
    },
    {
     "name": "stdout",
     "output_type": "stream",
     "text": [
      "[100]\tcv_agg's binary_logloss: 0.542255 + 0.160569\n"
     ]
    },
    {
     "name": "stderr",
     "output_type": "stream",
     "text": [
      "feature_fraction, val_score: 0.475648:  43%|###################2                         | 3/7 [00:01<00:02,  1.82it/s][I 2021-03-14 16:39:14,466] Trial 2 finished with value: 0.4930898102751276 and parameters: {'feature_fraction': 0.6}. Best is trial 1 with value: 0.4756478012705685.\n",
      "feature_fraction, val_score: 0.475648:  43%|###################2                         | 3/7 [00:01<00:02,  1.82it/s]"
     ]
    },
    {
     "name": "stdout",
     "output_type": "stream",
     "text": [
      "[100]\tcv_agg's binary_logloss: 0.561171 + 0.178595\n"
     ]
    },
    {
     "name": "stderr",
     "output_type": "stream",
     "text": [
      "feature_fraction, val_score: 0.475648:  57%|#########################7                   | 4/7 [00:02<00:01,  1.78it/s][I 2021-03-14 16:39:15,048] Trial 3 finished with value: 0.4772779177597914 and parameters: {'feature_fraction': 0.8}. Best is trial 1 with value: 0.4756478012705685.\n",
      "feature_fraction, val_score: 0.475648:  57%|#########################7                   | 4/7 [00:02<00:01,  1.78it/s]"
     ]
    },
    {
     "name": "stdout",
     "output_type": "stream",
     "text": [
      "[100]\tcv_agg's binary_logloss: 0.542255 + 0.160569\n"
     ]
    },
    {
     "name": "stderr",
     "output_type": "stream",
     "text": [
      "feature_fraction, val_score: 0.475648:  71%|################################1            | 5/7 [00:02<00:01,  1.86it/s][I 2021-03-14 16:39:15,530] Trial 4 finished with value: 0.4930898102751276 and parameters: {'feature_fraction': 0.5}. Best is trial 1 with value: 0.4756478012705685.\n",
      "feature_fraction, val_score: 0.475648:  71%|################################1            | 5/7 [00:02<00:01,  1.86it/s]"
     ]
    },
    {
     "name": "stdout",
     "output_type": "stream",
     "text": [
      "[100]\tcv_agg's binary_logloss: 0.53975 + 0.160348\n"
     ]
    },
    {
     "name": "stderr",
     "output_type": "stream",
     "text": [
      "feature_fraction, val_score: 0.475648:  86%|######################################5      | 6/7 [00:03<00:00,  1.90it/s][I 2021-03-14 16:39:16,032] Trial 5 finished with value: 0.4852462413953746 and parameters: {'feature_fraction': 0.7}. Best is trial 1 with value: 0.4756478012705685.\n",
      "feature_fraction, val_score: 0.475648:  86%|######################################5      | 6/7 [00:03<00:00,  1.90it/s]"
     ]
    },
    {
     "name": "stdout",
     "output_type": "stream",
     "text": [
      "[100]\tcv_agg's binary_logloss: 0.52417 + 0.14301\n"
     ]
    },
    {
     "name": "stderr",
     "output_type": "stream",
     "text": [
      "feature_fraction, val_score: 0.475648: 100%|#############################################| 7/7 [00:03<00:00,  1.90it/s][I 2021-03-14 16:39:16,559] Trial 6 finished with value: 0.49021575243661825 and parameters: {'feature_fraction': 0.4}. Best is trial 1 with value: 0.4756478012705685.\n",
      "feature_fraction, val_score: 0.475648: 100%|#############################################| 7/7 [00:03<00:00,  1.88it/s]\n",
      "num_leaves, val_score: 0.475648:   0%|                                                          | 0/20 [00:00<?, ?it/s]"
     ]
    },
    {
     "name": "stdout",
     "output_type": "stream",
     "text": [
      "[100]\tcv_agg's binary_logloss: 0.566286 + 0.189419\n"
     ]
    },
    {
     "name": "stderr",
     "output_type": "stream",
     "text": [
      "num_leaves, val_score: 0.475648:   5%|##5                                               | 1/20 [00:00<00:10,  1.73it/s][I 2021-03-14 16:39:17,149] Trial 7 finished with value: 0.4756478012705685 and parameters: {'num_leaves': 200}. Best is trial 7 with value: 0.4756478012705685.\n",
      "num_leaves, val_score: 0.475648:   5%|##5                                               | 1/20 [00:00<00:10,  1.73it/s]"
     ]
    },
    {
     "name": "stdout",
     "output_type": "stream",
     "text": [
      "[100]\tcv_agg's binary_logloss: 0.566286 + 0.189419\n"
     ]
    },
    {
     "name": "stderr",
     "output_type": "stream",
     "text": [
      "num_leaves, val_score: 0.475648:  10%|#####                                             | 2/20 [00:01<00:10,  1.75it/s][I 2021-03-14 16:39:17,700] Trial 8 finished with value: 0.4756478012705685 and parameters: {'num_leaves': 31}. Best is trial 7 with value: 0.4756478012705685.\n",
      "num_leaves, val_score: 0.475648:  10%|#####                                             | 2/20 [00:01<00:10,  1.75it/s]"
     ]
    },
    {
     "name": "stdout",
     "output_type": "stream",
     "text": [
      "[100]\tcv_agg's binary_logloss: 0.566286 + 0.189419\n"
     ]
    },
    {
     "name": "stderr",
     "output_type": "stream",
     "text": [
      "num_leaves, val_score: 0.475648:  15%|#######5                                          | 3/20 [00:01<00:09,  1.73it/s][I 2021-03-14 16:39:18,294] Trial 9 finished with value: 0.4756478012705685 and parameters: {'num_leaves': 233}. Best is trial 7 with value: 0.4756478012705685.\n",
      "num_leaves, val_score: 0.475648:  15%|#######5                                          | 3/20 [00:01<00:09,  1.73it/s]"
     ]
    },
    {
     "name": "stdout",
     "output_type": "stream",
     "text": [
      "[100]\tcv_agg's binary_logloss: 0.530416 + 0.167567\n"
     ]
    },
    {
     "name": "stderr",
     "output_type": "stream",
     "text": [
      "num_leaves, val_score: 0.475648:  20%|##########                                        | 4/20 [00:02<00:08,  1.96it/s][I 2021-03-14 16:39:18,644] Trial 10 finished with value: 0.4780274843845894 and parameters: {'num_leaves': 15}. Best is trial 7 with value: 0.4756478012705685.\n",
      "num_leaves, val_score: 0.475648:  20%|##########                                        | 4/20 [00:02<00:08,  1.96it/s]"
     ]
    },
    {
     "name": "stdout",
     "output_type": "stream",
     "text": [
      "[100]\tcv_agg's binary_logloss: 0.566286 + 0.189419\n"
     ]
    },
    {
     "name": "stderr",
     "output_type": "stream",
     "text": [
      "num_leaves, val_score: 0.475648:  25%|############5                                     | 5/20 [00:02<00:07,  1.88it/s][I 2021-03-14 16:39:19,226] Trial 11 finished with value: 0.4756478012705685 and parameters: {'num_leaves': 214}. Best is trial 7 with value: 0.4756478012705685.\n",
      "num_leaves, val_score: 0.475648:  25%|############5                                     | 5/20 [00:02<00:07,  1.88it/s]"
     ]
    },
    {
     "name": "stdout",
     "output_type": "stream",
     "text": [
      "[100]\tcv_agg's binary_logloss: 0.566286 + 0.189419\n"
     ]
    },
    {
     "name": "stderr",
     "output_type": "stream",
     "text": [
      "num_leaves, val_score: 0.475648:  30%|###############                                   | 6/20 [00:03<00:07,  1.80it/s][I 2021-03-14 16:39:19,838] Trial 12 finished with value: 0.4756478012705685 and parameters: {'num_leaves': 146}. Best is trial 7 with value: 0.4756478012705685.\n",
      "num_leaves, val_score: 0.475648:  30%|###############                                   | 6/20 [00:03<00:07,  1.80it/s]"
     ]
    },
    {
     "name": "stdout",
     "output_type": "stream",
     "text": [
      "[100]\tcv_agg's binary_logloss: 0.566286 + 0.189419\n"
     ]
    },
    {
     "name": "stderr",
     "output_type": "stream",
     "text": [
      "num_leaves, val_score: 0.475648:  35%|#################5                                | 7/20 [00:03<00:07,  1.75it/s][I 2021-03-14 16:39:20,450] Trial 13 finished with value: 0.4756478012705685 and parameters: {'num_leaves': 151}. Best is trial 7 with value: 0.4756478012705685.\n",
      "num_leaves, val_score: 0.475648:  35%|#################5                                | 7/20 [00:03<00:07,  1.75it/s]"
     ]
    },
    {
     "name": "stdout",
     "output_type": "stream",
     "text": [
      "[100]\tcv_agg's binary_logloss: 0.566286 + 0.189419\n"
     ]
    },
    {
     "name": "stderr",
     "output_type": "stream",
     "text": [
      "num_leaves, val_score: 0.475648:  40%|####################                              | 8/20 [00:04<00:06,  1.73it/s][I 2021-03-14 16:39:21,041] Trial 14 finished with value: 0.4756478012705685 and parameters: {'num_leaves': 251}. Best is trial 7 with value: 0.4756478012705685.\n",
      "num_leaves, val_score: 0.475648:  40%|####################                              | 8/20 [00:04<00:06,  1.73it/s]"
     ]
    },
    {
     "name": "stdout",
     "output_type": "stream",
     "text": [
      "[100]\tcv_agg's binary_logloss: 0.566286 + 0.189419\n"
     ]
    },
    {
     "name": "stderr",
     "output_type": "stream",
     "text": [
      "num_leaves, val_score: 0.475648:  45%|######################5                           | 9/20 [00:05<00:06,  1.75it/s][I 2021-03-14 16:39:21,599] Trial 15 finished with value: 0.4756478012705685 and parameters: {'num_leaves': 76}. Best is trial 7 with value: 0.4756478012705685.\n",
      "num_leaves, val_score: 0.475648:  45%|######################5                           | 9/20 [00:05<00:06,  1.75it/s]"
     ]
    },
    {
     "name": "stdout",
     "output_type": "stream",
     "text": [
      "[100]\tcv_agg's binary_logloss: 0.566286 + 0.189419\n"
     ]
    },
    {
     "name": "stderr",
     "output_type": "stream",
     "text": [
      "num_leaves, val_score: 0.475648:  50%|########################5                        | 10/20 [00:05<00:05,  1.73it/s][I 2021-03-14 16:39:22,188] Trial 16 finished with value: 0.4756478012705685 and parameters: {'num_leaves': 192}. Best is trial 7 with value: 0.4756478012705685.\n",
      "num_leaves, val_score: 0.475648:  50%|########################5                        | 10/20 [00:05<00:05,  1.73it/s]"
     ]
    },
    {
     "name": "stdout",
     "output_type": "stream",
     "text": [
      "[100]\tcv_agg's binary_logloss: 0.50052 + 0.0797715\n",
      "[200]\tcv_agg's binary_logloss: 0.495427 + 0.0851105\n",
      "[300]\tcv_agg's binary_logloss: 0.497734 + 0.089481\n"
     ]
    },
    {
     "name": "stderr",
     "output_type": "stream",
     "text": [
      "num_leaves, val_score: 0.475648:  55%|##########################9                      | 11/20 [00:05<00:04,  2.02it/s][I 2021-03-14 16:39:22,488] Trial 17 finished with value: 0.4954268614522627 and parameters: {'num_leaves': 2}. Best is trial 7 with value: 0.4756478012705685.\n",
      "num_leaves, val_score: 0.475648:  55%|##########################9                      | 11/20 [00:05<00:04,  2.02it/s]"
     ]
    },
    {
     "name": "stdout",
     "output_type": "stream",
     "text": [
      "[100]\tcv_agg's binary_logloss: 0.566286 + 0.189419\n"
     ]
    },
    {
     "name": "stderr",
     "output_type": "stream",
     "text": [
      "num_leaves, val_score: 0.475648:  60%|#############################4                   | 12/20 [00:06<00:04,  1.95it/s][I 2021-03-14 16:39:23,041] Trial 18 finished with value: 0.4756478012705685 and parameters: {'num_leaves': 64}. Best is trial 7 with value: 0.4756478012705685.\n",
      "num_leaves, val_score: 0.475648:  60%|#############################4                   | 12/20 [00:06<00:04,  1.95it/s]"
     ]
    },
    {
     "name": "stdout",
     "output_type": "stream",
     "text": [
      "[100]\tcv_agg's binary_logloss: 0.566286 + 0.189419\n"
     ]
    },
    {
     "name": "stderr",
     "output_type": "stream",
     "text": [
      "num_leaves, val_score: 0.475648:  65%|###############################8                 | 13/20 [00:07<00:03,  1.85it/s][I 2021-03-14 16:39:23,650] Trial 19 finished with value: 0.4756478012705685 and parameters: {'num_leaves': 249}. Best is trial 7 with value: 0.4756478012705685.\n",
      "num_leaves, val_score: 0.475648:  65%|###############################8                 | 13/20 [00:07<00:03,  1.85it/s]"
     ]
    },
    {
     "name": "stdout",
     "output_type": "stream",
     "text": [
      "[100]\tcv_agg's binary_logloss: 0.566286 + 0.189419\n"
     ]
    },
    {
     "name": "stderr",
     "output_type": "stream",
     "text": [
      "num_leaves, val_score: 0.475648:  70%|##################################3              | 14/20 [00:07<00:03,  1.82it/s][I 2021-03-14 16:39:24,218] Trial 20 finished with value: 0.4756478012705685 and parameters: {'num_leaves': 194}. Best is trial 7 with value: 0.4756478012705685.\n",
      "num_leaves, val_score: 0.475648:  70%|##################################3              | 14/20 [00:07<00:03,  1.82it/s]"
     ]
    },
    {
     "name": "stdout",
     "output_type": "stream",
     "text": [
      "[100]\tcv_agg's binary_logloss: 0.566286 + 0.189419\n"
     ]
    },
    {
     "name": "stderr",
     "output_type": "stream",
     "text": [
      "num_leaves, val_score: 0.475648:  75%|####################################7            | 15/20 [00:08<00:02,  1.78it/s][I 2021-03-14 16:39:24,806] Trial 21 finished with value: 0.4756478012705685 and parameters: {'num_leaves': 82}. Best is trial 7 with value: 0.4756478012705685.\n",
      "num_leaves, val_score: 0.475648:  75%|####################################7            | 15/20 [00:08<00:02,  1.78it/s]"
     ]
    },
    {
     "name": "stdout",
     "output_type": "stream",
     "text": [
      "[100]\tcv_agg's binary_logloss: 0.566286 + 0.189419\n"
     ]
    },
    {
     "name": "stderr",
     "output_type": "stream",
     "text": [
      "num_leaves, val_score: 0.475648:  80%|#######################################2         | 16/20 [00:08<00:02,  1.79it/s][I 2021-03-14 16:39:25,356] Trial 22 finished with value: 0.4756478012705685 and parameters: {'num_leaves': 100}. Best is trial 7 with value: 0.4756478012705685.\n",
      "num_leaves, val_score: 0.475648:  80%|#######################################2         | 16/20 [00:08<00:02,  1.79it/s]"
     ]
    },
    {
     "name": "stdout",
     "output_type": "stream",
     "text": [
      "[100]\tcv_agg's binary_logloss: 0.566286 + 0.189419\n"
     ]
    },
    {
     "name": "stderr",
     "output_type": "stream",
     "text": [
      "num_leaves, val_score: 0.475648:  85%|#########################################6       | 17/20 [00:09<00:01,  1.76it/s][I 2021-03-14 16:39:25,944] Trial 23 finished with value: 0.4756478012705685 and parameters: {'num_leaves': 212}. Best is trial 7 with value: 0.4756478012705685.\n",
      "num_leaves, val_score: 0.475648:  85%|#########################################6       | 17/20 [00:09<00:01,  1.76it/s]"
     ]
    },
    {
     "name": "stdout",
     "output_type": "stream",
     "text": [
      "[100]\tcv_agg's binary_logloss: 0.566286 + 0.189419\n"
     ]
    },
    {
     "name": "stderr",
     "output_type": "stream",
     "text": [
      "num_leaves, val_score: 0.475648:  90%|############################################1    | 18/20 [00:09<00:01,  1.74it/s][I 2021-03-14 16:39:26,539] Trial 24 finished with value: 0.4756478012705685 and parameters: {'num_leaves': 169}. Best is trial 7 with value: 0.4756478012705685.\n",
      "num_leaves, val_score: 0.475648:  90%|############################################1    | 18/20 [00:09<00:01,  1.74it/s]"
     ]
    },
    {
     "name": "stdout",
     "output_type": "stream",
     "text": [
      "[100]\tcv_agg's binary_logloss: 0.566286 + 0.189419\n"
     ]
    },
    {
     "name": "stderr",
     "output_type": "stream",
     "text": [
      "num_leaves, val_score: 0.475648:  95%|##############################################5  | 19/20 [00:10<00:00,  1.77it/s][I 2021-03-14 16:39:27,084] Trial 25 finished with value: 0.4756478012705685 and parameters: {'num_leaves': 109}. Best is trial 7 with value: 0.4756478012705685.\n",
      "num_leaves, val_score: 0.475648:  95%|##############################################5  | 19/20 [00:10<00:00,  1.77it/s]"
     ]
    },
    {
     "name": "stdout",
     "output_type": "stream",
     "text": [
      "[100]\tcv_agg's binary_logloss: 0.566286 + 0.189419\n"
     ]
    },
    {
     "name": "stderr",
     "output_type": "stream",
     "text": [
      "num_leaves, val_score: 0.475648: 100%|#################################################| 20/20 [00:11<00:00,  1.76it/s][I 2021-03-14 16:39:27,652] Trial 26 finished with value: 0.4756478012705685 and parameters: {'num_leaves': 123}. Best is trial 7 with value: 0.4756478012705685.\n",
      "num_leaves, val_score: 0.475648: 100%|#################################################| 20/20 [00:11<00:00,  1.80it/s]\n",
      "bagging, val_score: 0.475648:   0%|                                                             | 0/10 [00:00<?, ?it/s]"
     ]
    },
    {
     "name": "stdout",
     "output_type": "stream",
     "text": [
      "[100]\tcv_agg's binary_logloss: 0.556166 + 0.183135\n"
     ]
    },
    {
     "name": "stderr",
     "output_type": "stream",
     "text": [
      "bagging, val_score: 0.475648:  10%|#####3                                               | 1/10 [00:00<00:04,  1.96it/s][I 2021-03-14 16:39:28,174] Trial 27 finished with value: 0.48387993615660907 and parameters: {'bagging_fraction': 0.8808456207513189, 'bagging_freq': 6}. Best is trial 27 with value: 0.48387993615660907.\n",
      "bagging, val_score: 0.475648:  10%|#####3                                               | 1/10 [00:00<00:04,  1.96it/s]"
     ]
    },
    {
     "name": "stdout",
     "output_type": "stream",
     "text": [
      "[100]\tcv_agg's binary_logloss: 0.507583 + 0.12328\n"
     ]
    },
    {
     "name": "stderr",
     "output_type": "stream",
     "text": [
      "bagging, val_score: 0.474869:  20%|##########6                                          | 2/10 [00:01<00:04,  1.98it/s][I 2021-03-14 16:39:28,669] Trial 28 finished with value: 0.4748691011036816 and parameters: {'bagging_fraction': 0.4676220893908093, 'bagging_freq': 1}. Best is trial 28 with value: 0.4748691011036816.\n",
      "bagging, val_score: 0.474869:  20%|##########6                                          | 2/10 [00:01<00:04,  1.98it/s]"
     ]
    },
    {
     "name": "stdout",
     "output_type": "stream",
     "text": [
      "[100]\tcv_agg's binary_logloss: 0.518062 + 0.126078\n"
     ]
    },
    {
     "name": "stderr",
     "output_type": "stream",
     "text": [
      "bagging, val_score: 0.474869:  30%|###############9                                     | 3/10 [00:01<00:03,  2.09it/s][I 2021-03-14 16:39:29,084] Trial 29 finished with value: 0.48802181766533026 and parameters: {'bagging_fraction': 0.40571917014021086, 'bagging_freq': 1}. Best is trial 28 with value: 0.4748691011036816.\n",
      "bagging, val_score: 0.474869:  30%|###############9                                     | 3/10 [00:01<00:03,  2.09it/s]"
     ]
    },
    {
     "name": "stdout",
     "output_type": "stream",
     "text": [
      "[100]\tcv_agg's binary_logloss: 0.517398 + 0.120164\n"
     ]
    },
    {
     "name": "stderr",
     "output_type": "stream",
     "text": [
      "bagging, val_score: 0.474869:  40%|#####################2                               | 4/10 [00:01<00:02,  2.15it/s][I 2021-03-14 16:39:29,521] Trial 30 finished with value: 0.48615540516889516 and parameters: {'bagging_fraction': 0.4565385104776251, 'bagging_freq': 1}. Best is trial 28 with value: 0.4748691011036816.\n",
      "bagging, val_score: 0.474869:  40%|#####################2                               | 4/10 [00:01<00:02,  2.15it/s]"
     ]
    },
    {
     "name": "stdout",
     "output_type": "stream",
     "text": [
      "[100]\tcv_agg's binary_logloss: 0.529544 + 0.146701\n"
     ]
    },
    {
     "name": "stderr",
     "output_type": "stream",
     "text": [
      "bagging, val_score: 0.474869:  50%|##########################5                          | 5/10 [00:02<00:02,  2.04it/s][I 2021-03-14 16:39:30,064] Trial 31 finished with value: 0.48025724993394386 and parameters: {'bagging_fraction': 0.6309160263767107, 'bagging_freq': 3}. Best is trial 28 with value: 0.4748691011036816.\n",
      "bagging, val_score: 0.474869:  50%|##########################5                          | 5/10 [00:02<00:02,  2.04it/s]"
     ]
    },
    {
     "name": "stdout",
     "output_type": "stream",
     "text": [
      "[100]\tcv_agg's binary_logloss: 0.522594 + 0.14203\n"
     ]
    },
    {
     "name": "stderr",
     "output_type": "stream",
     "text": [
      "bagging, val_score: 0.474869:  60%|###############################8                     | 6/10 [00:02<00:02,  1.95it/s][I 2021-03-14 16:39:30,635] Trial 32 finished with value: 0.49145796443369577 and parameters: {'bagging_fraction': 0.6052279553849196, 'bagging_freq': 4}. Best is trial 28 with value: 0.4748691011036816.\n",
      "bagging, val_score: 0.474869:  60%|###############################8                     | 6/10 [00:02<00:02,  1.95it/s]"
     ]
    },
    {
     "name": "stdout",
     "output_type": "stream",
     "text": [
      "[100]\tcv_agg's binary_logloss: 0.56537 + 0.185947\n"
     ]
    },
    {
     "name": "stderr",
     "output_type": "stream",
     "text": [
      "bagging, val_score: 0.474869:  70%|#####################################                | 7/10 [00:03<00:01,  1.85it/s][I 2021-03-14 16:39:31,244] Trial 33 finished with value: 0.4784654086580583 and parameters: {'bagging_fraction': 0.9999546827363421, 'bagging_freq': 3}. Best is trial 28 with value: 0.4748691011036816.\n",
      "bagging, val_score: 0.474869:  70%|#####################################                | 7/10 [00:03<00:01,  1.85it/s]"
     ]
    },
    {
     "name": "stdout",
     "output_type": "stream",
     "text": [
      "[100]\tcv_agg's binary_logloss: 0.546217 + 0.140995\n"
     ]
    },
    {
     "name": "stderr",
     "output_type": "stream",
     "text": [
      "bagging, val_score: 0.474869:  80%|##########################################4          | 8/10 [00:04<00:01,  1.97it/s][I 2021-03-14 16:39:31,670] Trial 34 finished with value: 0.49852814829465153 and parameters: {'bagging_fraction': 0.5266715279672737, 'bagging_freq': 7}. Best is trial 28 with value: 0.4748691011036816.\n",
      "bagging, val_score: 0.474869:  80%|##########################################4          | 8/10 [00:04<00:01,  1.97it/s]"
     ]
    },
    {
     "name": "stdout",
     "output_type": "stream",
     "text": [
      "[100]\tcv_agg's binary_logloss: 0.536308 + 0.173323\n"
     ]
    },
    {
     "name": "stderr",
     "output_type": "stream",
     "text": [
      "bagging, val_score: 0.474869:  90%|###############################################7     | 9/10 [00:04<00:00,  2.00it/s][I 2021-03-14 16:39:32,155] Trial 35 finished with value: 0.48378908806425125 and parameters: {'bagging_fraction': 0.8016851785520944, 'bagging_freq': 1}. Best is trial 28 with value: 0.4748691011036816.\n",
      "bagging, val_score: 0.474869:  90%|###############################################7     | 9/10 [00:04<00:00,  2.00it/s]"
     ]
    },
    {
     "name": "stdout",
     "output_type": "stream",
     "text": [
      "[100]\tcv_agg's binary_logloss: 0.529956 + 0.144659\n"
     ]
    },
    {
     "name": "stderr",
     "output_type": "stream",
     "text": [
      "bagging, val_score: 0.474869: 100%|####################################################| 10/10 [00:05<00:00,  1.94it/s][I 2021-03-14 16:39:32,706] Trial 36 finished with value: 0.48514385901027135 and parameters: {'bagging_fraction': 0.7530906854061838, 'bagging_freq': 4}. Best is trial 28 with value: 0.4748691011036816.\n",
      "bagging, val_score: 0.474869: 100%|####################################################| 10/10 [00:05<00:00,  1.98it/s]\n",
      "feature_fraction_stage2, val_score: 0.474869:   0%|                                              | 0/6 [00:00<?, ?it/s]"
     ]
    },
    {
     "name": "stdout",
     "output_type": "stream",
     "text": [
      "[100]\tcv_agg's binary_logloss: 0.507583 + 0.12328\n"
     ]
    },
    {
     "name": "stderr",
     "output_type": "stream",
     "text": [
      "feature_fraction_stage2, val_score: 0.474869:  17%|######3                               | 1/6 [00:00<00:02,  2.29it/s][I 2021-03-14 16:39:33,155] Trial 37 finished with value: 0.4748691011036816 and parameters: {'feature_fraction': 0.9159999999999999}. Best is trial 37 with value: 0.4748691011036816.\n",
      "feature_fraction_stage2, val_score: 0.474869:  17%|######3                               | 1/6 [00:00<00:02,  2.29it/s]"
     ]
    },
    {
     "name": "stdout",
     "output_type": "stream",
     "text": [
      "[100]\tcv_agg's binary_logloss: 0.506198 + 0.116102\n"
     ]
    },
    {
     "name": "stderr",
     "output_type": "stream",
     "text": [
      "feature_fraction_stage2, val_score: 0.474869:  33%|############6                         | 2/6 [00:00<00:01,  2.30it/s][I 2021-03-14 16:39:33,587] Trial 38 finished with value: 0.48385717090730224 and parameters: {'feature_fraction': 0.82}. Best is trial 37 with value: 0.4748691011036816.\n",
      "feature_fraction_stage2, val_score: 0.474869:  33%|############6                         | 2/6 [00:00<00:01,  2.30it/s]"
     ]
    },
    {
     "name": "stdout",
     "output_type": "stream",
     "text": [
      "[100]\tcv_agg's binary_logloss: 0.507583 + 0.12328\n"
     ]
    },
    {
     "name": "stderr",
     "output_type": "stream",
     "text": [
      "feature_fraction_stage2, val_score: 0.474869:  50%|###################                   | 3/6 [00:01<00:01,  2.29it/s][I 2021-03-14 16:39:34,027] Trial 39 finished with value: 0.4748691011036816 and parameters: {'feature_fraction': 0.9799999999999999}. Best is trial 37 with value: 0.4748691011036816.\n",
      "feature_fraction_stage2, val_score: 0.474869:  50%|###################                   | 3/6 [00:01<00:01,  2.29it/s]"
     ]
    },
    {
     "name": "stdout",
     "output_type": "stream",
     "text": [
      "[100]\tcv_agg's binary_logloss: 0.507583 + 0.12328\n"
     ]
    },
    {
     "name": "stderr",
     "output_type": "stream",
     "text": [
      "feature_fraction_stage2, val_score: 0.474869:  67%|#########################3            | 4/6 [00:01<00:00,  2.29it/s][I 2021-03-14 16:39:34,465] Trial 40 finished with value: 0.4748691011036816 and parameters: {'feature_fraction': 0.8839999999999999}. Best is trial 37 with value: 0.4748691011036816.\n",
      "feature_fraction_stage2, val_score: 0.474869:  67%|#########################3            | 4/6 [00:01<00:00,  2.29it/s]"
     ]
    },
    {
     "name": "stdout",
     "output_type": "stream",
     "text": [
      "[100]\tcv_agg's binary_logloss: 0.506198 + 0.116102\n"
     ]
    },
    {
     "name": "stderr",
     "output_type": "stream",
     "text": [
      "feature_fraction_stage2, val_score: 0.474869:  83%|###############################6      | 5/6 [00:02<00:00,  2.26it/s][I 2021-03-14 16:39:34,922] Trial 41 finished with value: 0.48385717090730224 and parameters: {'feature_fraction': 0.852}. Best is trial 37 with value: 0.4748691011036816.\n",
      "feature_fraction_stage2, val_score: 0.474869:  83%|###############################6      | 5/6 [00:02<00:00,  2.26it/s]"
     ]
    },
    {
     "name": "stdout",
     "output_type": "stream",
     "text": [
      "[100]\tcv_agg's binary_logloss: 0.507583 + 0.12328\n"
     ]
    },
    {
     "name": "stderr",
     "output_type": "stream",
     "text": [
      "feature_fraction_stage2, val_score: 0.474869: 100%|######################################| 6/6 [00:02<00:00,  2.28it/s][I 2021-03-14 16:39:35,349] Trial 42 finished with value: 0.4748691011036816 and parameters: {'feature_fraction': 0.948}. Best is trial 37 with value: 0.4748691011036816.\n",
      "feature_fraction_stage2, val_score: 0.474869: 100%|######################################| 6/6 [00:02<00:00,  2.28it/s]\n",
      "regularization_factors, val_score: 0.474869:   0%|                                              | 0/20 [00:00<?, ?it/s]"
     ]
    },
    {
     "name": "stdout",
     "output_type": "stream",
     "text": [
      "[100]\tcv_agg's binary_logloss: 0.497209 + 0.13157\n"
     ]
    },
    {
     "name": "stderr",
     "output_type": "stream",
     "text": [
      "regularization_factors, val_score: 0.474869:   5%|#9                                    | 1/20 [00:00<00:08,  2.23it/s][I 2021-03-14 16:39:35,808] Trial 43 finished with value: 0.4884442867867512 and parameters: {'lambda_l1': 0.5593038590443058, 'lambda_l2': 1.3027068874485695e-07}. Best is trial 43 with value: 0.4884442867867512.\n",
      "regularization_factors, val_score: 0.474869:   5%|#9                                    | 1/20 [00:00<00:08,  2.23it/s]"
     ]
    },
    {
     "name": "stdout",
     "output_type": "stream",
     "text": [
      "[100]\tcv_agg's binary_logloss: 0.489871 + 0.105239\n",
      "[200]\tcv_agg's binary_logloss: 0.488874 + 0.110243\n"
     ]
    },
    {
     "name": "stderr",
     "output_type": "stream",
     "text": [
      "regularization_factors, val_score: 0.474869:  10%|###8                                  | 2/20 [00:01<00:09,  1.83it/s][I 2021-03-14 16:39:36,583] Trial 44 finished with value: 0.4848074580996255 and parameters: {'lambda_l1': 1.6929016844183235e-08, 'lambda_l2': 8.091908701772747}. Best is trial 44 with value: 0.4848074580996255.\n",
      "regularization_factors, val_score: 0.474869:  10%|###8                                  | 2/20 [00:01<00:09,  1.83it/s]"
     ]
    },
    {
     "name": "stdout",
     "output_type": "stream",
     "text": [
      "[100]\tcv_agg's binary_logloss: 0.510543 + 0.115497\n"
     ]
    },
    {
     "name": "stderr",
     "output_type": "stream",
     "text": [
      "regularization_factors, val_score: 0.474869:  15%|#####7                                | 3/20 [00:01<00:08,  1.92it/s][I 2021-03-14 16:39:37,041] Trial 45 finished with value: 0.4830699731499675 and parameters: {'lambda_l1': 1.0657481854853769e-07, 'lambda_l2': 0.20247876231091144}. Best is trial 45 with value: 0.4830699731499675.\n",
      "regularization_factors, val_score: 0.474869:  15%|#####7                                | 3/20 [00:01<00:08,  1.92it/s]"
     ]
    },
    {
     "name": "stdout",
     "output_type": "stream",
     "text": [
      "[100]\tcv_agg's binary_logloss: 0.492164 + 0.11251\n"
     ]
    },
    {
     "name": "stderr",
     "output_type": "stream",
     "text": [
      "regularization_factors, val_score: 0.474869:  20%|#######6                              | 4/20 [00:02<00:07,  2.04it/s][I 2021-03-14 16:39:37,460] Trial 46 finished with value: 0.48255327124889486 and parameters: {'lambda_l1': 1.316651056183305, 'lambda_l2': 1.064900147747558e-08}. Best is trial 46 with value: 0.48255327124889486.\n",
      "regularization_factors, val_score: 0.474869:  20%|#######6                              | 4/20 [00:02<00:07,  2.04it/s]"
     ]
    },
    {
     "name": "stdout",
     "output_type": "stream",
     "text": [
      "[100]\tcv_agg's binary_logloss: 0.501716 + 0.115716\n"
     ]
    },
    {
     "name": "stderr",
     "output_type": "stream",
     "text": [
      "regularization_factors, val_score: 0.474869:  25%|#########5                            | 5/20 [00:02<00:07,  2.09it/s][I 2021-03-14 16:39:37,913] Trial 47 finished with value: 0.4767103561227614 and parameters: {'lambda_l1': 0.00024158977209205002, 'lambda_l2': 4.406855798250435e-05}. Best is trial 47 with value: 0.4767103561227614.\n",
      "regularization_factors, val_score: 0.474869:  25%|#########5                            | 5/20 [00:02<00:07,  2.09it/s]"
     ]
    },
    {
     "name": "stdout",
     "output_type": "stream",
     "text": [
      "[100]\tcv_agg's binary_logloss: 0.504436 + 0.116485\n"
     ]
    },
    {
     "name": "stderr",
     "output_type": "stream",
     "text": [
      "regularization_factors, val_score: 0.474869:  30%|###########4                          | 6/20 [00:02<00:06,  2.15it/s][I 2021-03-14 16:39:38,346] Trial 48 finished with value: 0.47809698196672257 and parameters: {'lambda_l1': 0.0001028887425532755, 'lambda_l2': 0.002300003045985991}. Best is trial 47 with value: 0.4767103561227614.\n",
      "regularization_factors, val_score: 0.474869:  30%|###########4                          | 6/20 [00:02<00:06,  2.15it/s]"
     ]
    },
    {
     "name": "stdout",
     "output_type": "stream",
     "text": [
      "[100]\tcv_agg's binary_logloss: 0.504724 + 0.117825\n"
     ]
    },
    {
     "name": "stderr",
     "output_type": "stream",
     "text": [
      "regularization_factors, val_score: 0.474869:  35%|#############3                        | 7/20 [00:03<00:06,  2.13it/s][I 2021-03-14 16:39:38,827] Trial 49 finished with value: 0.4774739354821597 and parameters: {'lambda_l1': 4.701622568208491e-06, 'lambda_l2': 4.377135322153313e-06}. Best is trial 47 with value: 0.4767103561227614.\n",
      "regularization_factors, val_score: 0.474869:  35%|#############3                        | 7/20 [00:03<00:06,  2.13it/s]"
     ]
    },
    {
     "name": "stdout",
     "output_type": "stream",
     "text": [
      "[100]\tcv_agg's binary_logloss: 0.506807 + 0.129052\n"
     ]
    },
    {
     "name": "stderr",
     "output_type": "stream",
     "text": [
      "regularization_factors, val_score: 0.474869:  40%|###############2                      | 8/20 [00:03<00:05,  2.18it/s][I 2021-03-14 16:39:39,260] Trial 50 finished with value: 0.48026973269936446 and parameters: {'lambda_l1': 0.03637246389746111, 'lambda_l2': 0.01768164339285368}. Best is trial 47 with value: 0.4767103561227614.\n",
      "regularization_factors, val_score: 0.474869:  40%|###############2                      | 8/20 [00:03<00:05,  2.18it/s]"
     ]
    },
    {
     "name": "stdout",
     "output_type": "stream",
     "text": [
      "[100]\tcv_agg's binary_logloss: 0.489413 + 0.106055\n",
      "[200]\tcv_agg's binary_logloss: 0.493188 + 0.108405\n"
     ]
    },
    {
     "name": "stderr",
     "output_type": "stream",
     "text": [
      "regularization_factors, val_score: 0.474869:  45%|#################1                    | 9/20 [00:04<00:06,  1.78it/s][I 2021-03-14 16:39:40,059] Trial 51 finished with value: 0.4873499742930859 and parameters: {'lambda_l1': 0.029252983990764102, 'lambda_l2': 7.225497190177254}. Best is trial 47 with value: 0.4767103561227614.\n",
      "regularization_factors, val_score: 0.474869:  45%|#################1                    | 9/20 [00:04<00:06,  1.78it/s]"
     ]
    },
    {
     "name": "stdout",
     "output_type": "stream",
     "text": [
      "[100]\tcv_agg's binary_logloss: 0.500338 + 0.124156\n"
     ]
    },
    {
     "name": "stderr",
     "output_type": "stream",
     "text": [
      "regularization_factors, val_score: 0.474869:  50%|##################5                  | 10/20 [00:05<00:05,  1.90it/s][I 2021-03-14 16:39:40,505] Trial 52 finished with value: 0.4782562017800376 and parameters: {'lambda_l1': 8.873034832642924e-07, 'lambda_l2': 7.097858126727638e-07}. Best is trial 47 with value: 0.4767103561227614.\n",
      "regularization_factors, val_score: 0.474869:  50%|##################5                  | 10/20 [00:05<00:05,  1.90it/s]"
     ]
    },
    {
     "name": "stdout",
     "output_type": "stream",
     "text": [
      "[100]\tcv_agg's binary_logloss: 0.502399 + 0.121138\n"
     ]
    },
    {
     "name": "stderr",
     "output_type": "stream",
     "text": [
      "regularization_factors, val_score: 0.474869:  55%|####################3                | 11/20 [00:05<00:04,  1.94it/s][I 2021-03-14 16:39:40,999] Trial 53 finished with value: 0.48065523959740186 and parameters: {'lambda_l1': 0.01734934130371829, 'lambda_l2': 0.00016788924851467564}. Best is trial 47 with value: 0.4767103561227614.\n",
      "regularization_factors, val_score: 0.474869:  55%|####################3                | 11/20 [00:05<00:04,  1.94it/s]"
     ]
    },
    {
     "name": "stdout",
     "output_type": "stream",
     "text": [
      "[100]\tcv_agg's binary_logloss: 0.503443 + 0.117477\n"
     ]
    },
    {
     "name": "stderr",
     "output_type": "stream",
     "text": [
      "regularization_factors, val_score: 0.474869:  60%|######################2              | 12/20 [00:06<00:03,  2.02it/s][I 2021-03-14 16:39:41,446] Trial 54 finished with value: 0.4805125203008383 and parameters: {'lambda_l1': 1.4042658492143483e-05, 'lambda_l2': 0.3171666989150988}. Best is trial 47 with value: 0.4767103561227614.\n",
      "regularization_factors, val_score: 0.474869:  60%|######################2              | 12/20 [00:06<00:03,  2.02it/s]"
     ]
    },
    {
     "name": "stdout",
     "output_type": "stream",
     "text": [
      "[100]\tcv_agg's binary_logloss: 0.508079 + 0.086234\n"
     ]
    },
    {
     "name": "stderr",
     "output_type": "stream",
     "text": [
      "regularization_factors, val_score: 0.474869:  65%|########################             | 13/20 [00:06<00:03,  2.09it/s][I 2021-03-14 16:39:41,883] Trial 55 finished with value: 0.5078458955944459 and parameters: {'lambda_l1': 6.695198944599117, 'lambda_l2': 2.5945374596224624e-08}. Best is trial 47 with value: 0.4767103561227614.\n",
      "regularization_factors, val_score: 0.474869:  65%|########################             | 13/20 [00:06<00:03,  2.09it/s]"
     ]
    },
    {
     "name": "stdout",
     "output_type": "stream",
     "text": [
      "[100]\tcv_agg's binary_logloss: 0.507882 + 0.119525\n"
     ]
    },
    {
     "name": "stderr",
     "output_type": "stream",
     "text": [
      "regularization_factors, val_score: 0.474869:  70%|#########################9           | 14/20 [00:06<00:02,  2.15it/s][I 2021-03-14 16:39:42,321] Trial 56 finished with value: 0.48042319005280165 and parameters: {'lambda_l1': 0.00507547173317316, 'lambda_l2': 1.1293974411237186e-05}. Best is trial 47 with value: 0.4767103561227614.\n",
      "regularization_factors, val_score: 0.474869:  70%|#########################9           | 14/20 [00:06<00:02,  2.15it/s]"
     ]
    },
    {
     "name": "stdout",
     "output_type": "stream",
     "text": [
      "[100]\tcv_agg's binary_logloss: 0.500683 + 0.121187\n"
     ]
    },
    {
     "name": "stderr",
     "output_type": "stream",
     "text": [
      "regularization_factors, val_score: 0.474869:  75%|###########################7         | 15/20 [00:07<00:02,  2.17it/s][I 2021-03-14 16:39:42,770] Trial 57 finished with value: 0.48142477052544563 and parameters: {'lambda_l1': 2.5442048844433607e-08, 'lambda_l2': 0.001703829391287524}. Best is trial 47 with value: 0.4767103561227614.\n",
      "regularization_factors, val_score: 0.474869:  75%|###########################7         | 15/20 [00:07<00:02,  2.17it/s]"
     ]
    },
    {
     "name": "stdout",
     "output_type": "stream",
     "text": [
      "[100]\tcv_agg's binary_logloss: 0.494241 + 0.110154\n"
     ]
    },
    {
     "name": "stderr",
     "output_type": "stream",
     "text": [
      "regularization_factors, val_score: 0.474869:  80%|#############################6       | 16/20 [00:07<00:01,  2.14it/s][I 2021-03-14 16:39:43,257] Trial 58 finished with value: 0.4790879794705269 and parameters: {'lambda_l1': 0.001801479901255443, 'lambda_l2': 0.6293164101775537}. Best is trial 47 with value: 0.4767103561227614.\n",
      "regularization_factors, val_score: 0.474869:  80%|#############################6       | 16/20 [00:07<00:01,  2.14it/s]"
     ]
    },
    {
     "name": "stdout",
     "output_type": "stream",
     "text": [
      "[100]\tcv_agg's binary_logloss: 0.51497 + 0.125635\n"
     ]
    },
    {
     "name": "stderr",
     "output_type": "stream",
     "text": [
      "regularization_factors, val_score: 0.474869:  85%|###############################4     | 17/20 [00:08<00:01,  2.11it/s][I 2021-03-14 16:39:43,738] Trial 59 finished with value: 0.4805922047566956 and parameters: {'lambda_l1': 3.8854318003528713e-07, 'lambda_l2': 0.017439655995968206}. Best is trial 47 with value: 0.4767103561227614.\n",
      "regularization_factors, val_score: 0.474869:  85%|###############################4     | 17/20 [00:08<00:01,  2.11it/s]"
     ]
    },
    {
     "name": "stdout",
     "output_type": "stream",
     "text": [
      "[100]\tcv_agg's binary_logloss: 0.501253 + 0.113393\n"
     ]
    },
    {
     "name": "stderr",
     "output_type": "stream",
     "text": [
      "regularization_factors, val_score: 0.474869:  90%|#################################3   | 18/20 [00:08<00:00,  2.10it/s][I 2021-03-14 16:39:44,221] Trial 60 finished with value: 0.48089387309258047 and parameters: {'lambda_l1': 0.4185676085832371, 'lambda_l2': 7.330357075430067e-07}. Best is trial 47 with value: 0.4767103561227614.\n",
      "regularization_factors, val_score: 0.474869:  90%|#################################3   | 18/20 [00:08<00:00,  2.10it/s]"
     ]
    },
    {
     "name": "stdout",
     "output_type": "stream",
     "text": [
      "[100]\tcv_agg's binary_logloss: 0.508774 + 0.0853013\n"
     ]
    },
    {
     "name": "stderr",
     "output_type": "stream",
     "text": [
      "regularization_factors, val_score: 0.474869:  95%|###################################1 | 19/20 [00:09<00:00,  2.14it/s][I 2021-03-14 16:39:44,671] Trial 61 finished with value: 0.5085743393646485 and parameters: {'lambda_l1': 6.695237120692445, 'lambda_l2': 1.6022163550026594}. Best is trial 47 with value: 0.4767103561227614.\n",
      "regularization_factors, val_score: 0.474869:  95%|###################################1 | 19/20 [00:09<00:00,  2.14it/s]"
     ]
    },
    {
     "name": "stdout",
     "output_type": "stream",
     "text": [
      "[100]\tcv_agg's binary_logloss: 0.509802 + 0.123555\n"
     ]
    },
    {
     "name": "stderr",
     "output_type": "stream",
     "text": [
      "regularization_factors, val_score: 0.474869: 100%|#####################################| 20/20 [00:09<00:00,  2.10it/s][I 2021-03-14 16:39:45,165] Trial 62 finished with value: 0.4833655918979257 and parameters: {'lambda_l1': 4.811352883088975e-05, 'lambda_l2': 0.04944624335582969}. Best is trial 47 with value: 0.4767103561227614.\n",
      "regularization_factors, val_score: 0.474869: 100%|#####################################| 20/20 [00:09<00:00,  2.04it/s]\n",
      "min_data_in_leaf, val_score: 0.474869:   0%|                                                     | 0/5 [00:00<?, ?it/s]"
     ]
    },
    {
     "name": "stdout",
     "output_type": "stream",
     "text": [
      "[100]\tcv_agg's binary_logloss: 0.633876 + 0.217503\n"
     ]
    },
    {
     "name": "stderr",
     "output_type": "stream",
     "text": [
      "min_data_in_leaf, val_score: 0.474869:  20%|#########                                    | 1/5 [00:00<00:02,  1.78it/s][I 2021-03-14 16:39:45,736] Trial 63 finished with value: 0.4939577152917871 and parameters: {'min_child_samples': 5}. Best is trial 63 with value: 0.4939577152917871.\n",
      "min_data_in_leaf, val_score: 0.474869:  20%|#########                                    | 1/5 [00:00<00:02,  1.78it/s]"
     ]
    },
    {
     "name": "stdout",
     "output_type": "stream",
     "text": [
      "[100]\tcv_agg's binary_logloss: 0.532396 + 0.086863\n"
     ]
    },
    {
     "name": "stderr",
     "output_type": "stream",
     "text": [
      "min_data_in_leaf, val_score: 0.474869:  40%|##################                           | 2/5 [00:00<00:01,  2.04it/s][I 2021-03-14 16:39:46,058] Trial 64 finished with value: 0.5246446848229744 and parameters: {'min_child_samples': 100}. Best is trial 63 with value: 0.4939577152917871.\n",
      "min_data_in_leaf, val_score: 0.474869:  40%|##################                           | 2/5 [00:00<00:01,  2.04it/s]"
     ]
    },
    {
     "name": "stdout",
     "output_type": "stream",
     "text": [
      "[100]\tcv_agg's binary_logloss: 0.537478 + 0.141572\n"
     ]
    },
    {
     "name": "stderr",
     "output_type": "stream",
     "text": [
      "min_data_in_leaf, val_score: 0.474869:  60%|###########################                  | 3/5 [00:01<00:01,  1.88it/s][I 2021-03-14 16:39:46,691] Trial 65 finished with value: 0.47630494261895395 and parameters: {'min_child_samples': 10}. Best is trial 65 with value: 0.47630494261895395.\n",
      "min_data_in_leaf, val_score: 0.474869:  60%|###########################                  | 3/5 [00:01<00:01,  1.88it/s]"
     ]
    },
    {
     "name": "stdout",
     "output_type": "stream",
     "text": [
      "[100]\tcv_agg's binary_logloss: 0.508109 + 0.109175\n"
     ]
    },
    {
     "name": "stderr",
     "output_type": "stream",
     "text": [
      "min_data_in_leaf, val_score: 0.474869:  80%|####################################         | 4/5 [00:01<00:00,  1.95it/s][I 2021-03-14 16:39:47,162] Trial 66 finished with value: 0.5058241943808914 and parameters: {'min_child_samples': 50}. Best is trial 65 with value: 0.47630494261895395.\n",
      "min_data_in_leaf, val_score: 0.474869:  80%|####################################         | 4/5 [00:02<00:00,  1.95it/s]"
     ]
    },
    {
     "name": "stdout",
     "output_type": "stream",
     "text": [
      "[100]\tcv_agg's binary_logloss: 0.505332 + 0.114983\n"
     ]
    },
    {
     "name": "stderr",
     "output_type": "stream",
     "text": [
      "min_data_in_leaf, val_score: 0.474869: 100%|#############################################| 5/5 [00:02<00:00,  1.99it/s][I 2021-03-14 16:39:47,640] Trial 67 finished with value: 0.49072822467410127 and parameters: {'min_child_samples': 25}. Best is trial 65 with value: 0.47630494261895395.\n",
      "min_data_in_leaf, val_score: 0.474869: 100%|#############################################| 5/5 [00:02<00:00,  2.02it/s]\n"
     ]
    },
    {
     "name": "stdout",
     "output_type": "stream",
     "text": [
      "========================================================================================================================================================================================================\n",
      "{'objective': 'binary', 'metric': 'binary_logloss', 'random_seed': 0, 'lambda_l1': 0.0, 'lambda_l2': 0.0, 'num_leaves': 31, 'feature_fraction': 0.8999999999999999, 'bagging_fraction': 0.4676220893908093, 'bagging_freq': 1, 'min_child_samples': 20}\n",
      "Training until validation scores don't improve for 20 rounds.\n",
      "Early stopping, best iteration is:\n",
      "[47]\ttraining's binary_logloss: 0.263212\tvalid_1's binary_logloss: 0.408524\n",
      "  score AUC Train : 0.957821   score AUC Valid : 0.869829\n",
      "  score precision Train : 0.916667   score precision Valid : 0.847458\n",
      "  score recall Train : 0.805861   score recall Valid : 0.724638\n",
      "Training until validation scores don't improve for 20 rounds.\n",
      "Early stopping, best iteration is:\n",
      "[41]\ttraining's binary_logloss: 0.281803\tvalid_1's binary_logloss: 0.415303\n",
      "  score AUC Train : 0.954076   score AUC Valid : 0.877607\n",
      "  score precision Train : 0.915612   score precision Valid : 0.865385\n",
      "  score recall Train : 0.791971   score recall Valid : 0.661765\n",
      "Training until validation scores don't improve for 20 rounds.\n",
      "Early stopping, best iteration is:\n",
      "[42]\ttraining's binary_logloss: 0.270146\tvalid_1's binary_logloss: 0.439568\n",
      "  score AUC Train : 0.955390   score AUC Valid : 0.863770\n",
      "  score precision Train : 0.919149   score precision Valid : 0.819672\n",
      "  score recall Train : 0.788321   score recall Valid : 0.735294\n",
      "Training until validation scores don't improve for 20 rounds.\n",
      "Early stopping, best iteration is:\n",
      "[37]\ttraining's binary_logloss: 0.280309\tvalid_1's binary_logloss: 0.420973\n",
      "  score AUC Train : 0.953914   score AUC Valid : 0.861163\n",
      "  score precision Train : 0.907258   score precision Valid : 0.770492\n",
      "  score recall Train : 0.821168   score recall Valid : 0.691176\n",
      "Training until validation scores don't improve for 20 rounds.\n",
      "Early stopping, best iteration is:\n",
      "[39]\ttraining's binary_logloss: 0.272576\tvalid_1's binary_logloss: 0.474728\n",
      "  score AUC Train : 0.956048   score AUC Valid : 0.817245\n",
      "  score precision Train : 0.904959   score precision Valid : 0.818182\n",
      "  score recall Train : 0.802198   score recall Valid : 0.652174\n",
      "****************************************\n",
      "train AUC Score : 0.877046\n",
      "valid AUC Score : 0.800043\n",
      "train AUC Score - valid Score : 0.077003\n",
      "train precision Score : 0.912729\n",
      "valid precision Score : 0.822917\n",
      "train precision Score - valid Score : 0.089812\n",
      "train recall Score : 0.801904\n",
      "valid recall Score : 0.692982\n",
      "train recall Score - valid Score : 0.108921\n"
     ]
    },
    {
     "data": {
      "image/png": "[encoded data removed]",
      "text/plain": [
       "<Figure size 1008x288 with 1 Axes>"
      ]
     },
     "metadata": {
      "needs_background": "light"
     },
     "output_type": "display_data"
    }
   ],
   "source": [
    "kf = StratifiedKFold(n_splits=5, shuffle=True, random_state=0)\n",
    "\n",
    "train_X_tar = smoothed_target_encoding(train_X, train_y, kf, [\"Sex\",\"Cabin\", \"Embarked\"])\n",
    "\n",
    "best_params = get_bestparams_optuna(train_X_tar, train_y, kf)\n",
    "\n",
    "lgbm = lgb.LGBMClassifier(**best_params)\n",
    "\n",
    "pred_train, preds_test, lgbm = predict_cv(lgbm, train_X, train_y, test_X, kf, [\"Sex\",\"Cabin\", \"Embarked\"])"
   ]
  },
  {
   "cell_type": "code",
   "execution_count": 34,
   "metadata": {},
   "outputs": [
    {
     "data": {
      "text/html": [
       "<div>\n",
       "<style scoped>\n",
       "    .dataframe tbody tr th:only-of-type {\n",
       "        vertical-align: middle;\n",
       "    }\n",
       "\n",
       "    .dataframe tbody tr th {\n",
       "        vertical-align: top;\n",
       "    }\n",
       "\n",
       "    .dataframe thead th {\n",
       "        text-align: right;\n",
       "    }\n",
       "</style>\n",
       "<table border=\"1\" class=\"dataframe\">\n",
       "  <thead>\n",
       "    <tr style=\"text-align: right;\">\n",
       "      <th></th>\n",
       "      <th>PassengerId</th>\n",
       "      <th>Survived</th>\n",
       "    </tr>\n",
       "  </thead>\n",
       "  <tbody>\n",
       "    <tr>\n",
       "      <th>0</th>\n",
       "      <td>892</td>\n",
       "      <td>0</td>\n",
       "    </tr>\n",
       "    <tr>\n",
       "      <th>1</th>\n",
       "      <td>893</td>\n",
       "      <td>0</td>\n",
       "    </tr>\n",
       "    <tr>\n",
       "      <th>2</th>\n",
       "      <td>894</td>\n",
       "      <td>0</td>\n",
       "    </tr>\n",
       "    <tr>\n",
       "      <th>3</th>\n",
       "      <td>895</td>\n",
       "      <td>0</td>\n",
       "    </tr>\n",
       "    <tr>\n",
       "      <th>4</th>\n",
       "      <td>896</td>\n",
       "      <td>0</td>\n",
       "    </tr>\n",
       "    <tr>\n",
       "      <th>...</th>\n",
       "      <td>...</td>\n",
       "      <td>...</td>\n",
       "    </tr>\n",
       "    <tr>\n",
       "      <th>413</th>\n",
       "      <td>1305</td>\n",
       "      <td>0</td>\n",
       "    </tr>\n",
       "    <tr>\n",
       "      <th>414</th>\n",
       "      <td>1306</td>\n",
       "      <td>1</td>\n",
       "    </tr>\n",
       "    <tr>\n",
       "      <th>415</th>\n",
       "      <td>1307</td>\n",
       "      <td>0</td>\n",
       "    </tr>\n",
       "    <tr>\n",
       "      <th>416</th>\n",
       "      <td>1308</td>\n",
       "      <td>0</td>\n",
       "    </tr>\n",
       "    <tr>\n",
       "      <th>417</th>\n",
       "      <td>1309</td>\n",
       "      <td>0</td>\n",
       "    </tr>\n",
       "  </tbody>\n",
       "</table>\n",
       "<p>418 rows × 2 columns</p>\n",
       "</div>"
      ],
      "text/plain": [
       "     PassengerId  Survived\n",
       "0            892         0\n",
       "1            893         0\n",
       "2            894         0\n",
       "3            895         0\n",
       "4            896         0\n",
       "..           ...       ...\n",
       "413         1305         0\n",
       "414         1306         1\n",
       "415         1307         0\n",
       "416         1308         0\n",
       "417         1309         0\n",
       "\n",
       "[418 rows x 2 columns]"
      ]
     },
     "execution_count": 34,
     "metadata": {},
     "output_type": "execute_result"
    }
   ],
   "source": [
    "sub = pd.read_csv('gender_submission.csv')\n",
    "sub['Survived'] = preds_test[0].astype(int)\n",
    "sub"
   ]
  },
  {
   "cell_type": "code",
   "execution_count": null,
   "metadata": {},
   "outputs": [],
   "source": [
    "#sub.to_csv('optuna_target_encoded.csv', index=None)"
   ]
  },
  {
   "cell_type": "code",
   "execution_count": null,
   "metadata": {},
   "outputs": [],
   "source": []
  },
  {
   "cell_type": "code",
   "execution_count": null,
   "metadata": {},
   "outputs": [],
   "source": []
  },
  {
   "cell_type": "code",
   "execution_count": null,
   "metadata": {},
   "outputs": [],
   "source": []
  },
  {
   "cell_type": "code",
   "execution_count": null,
   "metadata": {},
   "outputs": [],
   "source": []
  },
  {
   "cell_type": "code",
   "execution_count": null,
   "metadata": {},
   "outputs": [],
   "source": []
  },
  {
   "cell_type": "code",
   "execution_count": null,
   "metadata": {},
   "outputs": [],
   "source": []
  },
  {
   "cell_type": "code",
   "execution_count": null,
   "metadata": {},
   "outputs": [],
   "source": []
  },
  {
   "cell_type": "code",
   "execution_count": null,
   "metadata": {},
   "outputs": [],
   "source": []
  },
  {
   "cell_type": "code",
   "execution_count": null,
   "metadata": {},
   "outputs": [],
   "source": []
  },
  {
   "cell_type": "code",
   "execution_count": null,
   "metadata": {},
   "outputs": [],
   "source": []
  },
  {
   "cell_type": "code",
   "execution_count": null,
   "metadata": {},
   "outputs": [],
   "source": []
  },
  {
   "cell_type": "code",
   "execution_count": null,
   "metadata": {},
   "outputs": [],
   "source": []
  }
 ],
 "metadata": {
  "kernelspec": {
   "display_name": "Python 3",
   "language": "python",
   "name": "python3"
  },
  "language_info": {
   "codemirror_mode": {
    "name": "ipython",
    "version": 3
   },
   "file_extension": ".py",
   "mimetype": "text/x-python",
   "name": "python",
   "nbconvert_exporter": "python",
   "pygments_lexer": "ipython3",
   "version": "3.8.3"
  }
 },
 "nbformat": 4,
 "nbformat_minor": 4
}
