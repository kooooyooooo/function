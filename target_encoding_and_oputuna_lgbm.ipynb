{
 "cells": [
  {
   "cell_type": "markdown",
   "metadata": {},
   "source": [
    "# インポート等（基本的なもの以外は各セクションで実施）"
   ]
  },
  {
   "cell_type": "code",
   "execution_count": 1,
   "metadata": {},
   "outputs": [],
   "source": [
    "import numpy as np\n",
    "import pandas as pd\n",
    "from matplotlib import pyplot as plt\n",
    "%matplotlib inline\n",
    "import seaborn as sns\n",
    "import pickle\n",
    "\n",
    "import warnings\n",
    "warnings.simplefilter('ignore')\n",
    "\n",
    "train = pd.read_csv('train.csv')\n",
    "test = pd.read_csv('test.csv')"
   ]
  },
  {
   "cell_type": "markdown",
   "metadata": {},
   "source": [
    "# ターゲットエンコーディングのスムージング"
   ]
  },
  {
   "cell_type": "markdown",
   "metadata": {},
   "source": [
    "## クラス"
   ]
  },
  {
   "cell_type": "code",
   "execution_count": 2,
   "metadata": {},
   "outputs": [],
   "source": [
    "class TargetEncoding_ws(object):\n",
    "    \"\"\"\n",
    "    DFと変換したいカラムリスト、targetを引数として、Target Encoding with Smoothingを行う\n",
    "    引数\n",
    "    dataframe : DF全体 (pd.DataFrame)\n",
    "    target : 目的変数のカラム (np.ndarray or np.Series)\n",
    "    list_cols : 変換したいカラムリスト (list[str])\n",
    "    k : smoothingのハイパーパラメータ (int)\n",
    "    impute : 未知のカテゴリに平均を入れるか (boolean)\n",
    "    \"\"\"\n",
    "    def __init__(self, list_cols, k=100, impute=True):\n",
    "        self.df = None\n",
    "        self.target = None\n",
    "        self.list_cols = list_cols\n",
    "        self.k = k\n",
    "        self.impute = impute\n",
    "        self.target_map = {}\n",
    "        self.target_mean = None\n",
    "\n",
    "    def sigmoid(self, x, k):\n",
    "        return 1 / (1 + np.exp(- x / k))\n",
    "\n",
    "    def fit_univariate(self, target, col):\n",
    "        \"\"\"\n",
    "        一つの変数に対するTarget_Encoding\n",
    "        col : TargetEncodingしたい変数名\n",
    "        \"\"\"\n",
    "        df = self.df.copy()\n",
    "        k = self.k\n",
    "        df[\"target\"] = target\n",
    "        n_i = df.groupby(col).count()[\"target\"]\n",
    "\n",
    "        lambda_n_i = self.sigmoid(n_i, k)\n",
    "        uni_map = df.groupby(col).mean()[\"target\"]\n",
    "\n",
    "        return lambda_n_i * df.loc[:, \"target\"].mean() + (1 - lambda_n_i) * uni_map\n",
    "\n",
    "    def fit(self, data, target, list_cols):\n",
    "        \"\"\"\n",
    "        複数カラムにも対応したTargetEncoding\n",
    "        \"\"\"\n",
    "        self.df = data.copy()\n",
    "        self.target = target\n",
    "\n",
    "        if self.impute == True:\n",
    "            self.target_mean = target.mean()\n",
    "\n",
    "        #各カラムのmapを保存\n",
    "        for col in list_cols:\n",
    "            self.target_map[col] = self.fit_univariate(target, col)\n",
    "\n",
    "    def transform(self, x):\n",
    "        list_cols = self.list_cols\n",
    "        x_d = x.copy()\n",
    "        for col in list_cols:\n",
    "            x_d.loc[:, col] = x_d.loc[:, col].map(self.target_map[col])\n",
    "\n",
    "            #impute\n",
    "            if self.impute == True:\n",
    "                x_d.loc[:, col] = np.where(x_d.loc[:, col].isnull(), self.target_mean, x_d.loc[:, col])\n",
    "\n",
    "        return x_d"
   ]
  },
  {
   "cell_type": "markdown",
   "metadata": {},
   "source": [
    "## データ加工"
   ]
  },
  {
   "cell_type": "code",
   "execution_count": 3,
   "metadata": {},
   "outputs": [
    {
     "data": {
      "text/html": [
       "<div>\n",
       "<style scoped>\n",
       "    .dataframe tbody tr th:only-of-type {\n",
       "        vertical-align: middle;\n",
       "    }\n",
       "\n",
       "    .dataframe tbody tr th {\n",
       "        vertical-align: top;\n",
       "    }\n",
       "\n",
       "    .dataframe thead th {\n",
       "        text-align: right;\n",
       "    }\n",
       "</style>\n",
       "<table border=\"1\" class=\"dataframe\">\n",
       "  <thead>\n",
       "    <tr style=\"text-align: right;\">\n",
       "      <th></th>\n",
       "      <th>Pclass</th>\n",
       "      <th>Sex</th>\n",
       "      <th>Age</th>\n",
       "      <th>SibSp</th>\n",
       "      <th>Parch</th>\n",
       "      <th>Fare</th>\n",
       "      <th>Cabin</th>\n",
       "      <th>Embarked</th>\n",
       "    </tr>\n",
       "  </thead>\n",
       "  <tbody>\n",
       "    <tr>\n",
       "      <th>0</th>\n",
       "      <td>3</td>\n",
       "      <td>male</td>\n",
       "      <td>22.0</td>\n",
       "      <td>1</td>\n",
       "      <td>0</td>\n",
       "      <td>7.2500</td>\n",
       "      <td>NaN</td>\n",
       "      <td>S</td>\n",
       "    </tr>\n",
       "    <tr>\n",
       "      <th>1</th>\n",
       "      <td>1</td>\n",
       "      <td>female</td>\n",
       "      <td>38.0</td>\n",
       "      <td>1</td>\n",
       "      <td>0</td>\n",
       "      <td>71.2833</td>\n",
       "      <td>C85</td>\n",
       "      <td>C</td>\n",
       "    </tr>\n",
       "    <tr>\n",
       "      <th>2</th>\n",
       "      <td>3</td>\n",
       "      <td>female</td>\n",
       "      <td>26.0</td>\n",
       "      <td>0</td>\n",
       "      <td>0</td>\n",
       "      <td>7.9250</td>\n",
       "      <td>NaN</td>\n",
       "      <td>S</td>\n",
       "    </tr>\n",
       "  </tbody>\n",
       "</table>\n",
       "</div>"
      ],
      "text/plain": [
       "   Pclass     Sex   Age  SibSp  Parch     Fare Cabin Embarked\n",
       "0       3    male  22.0      1      0   7.2500   NaN        S\n",
       "1       1  female  38.0      1      0  71.2833   C85        C\n",
       "2       3  female  26.0      0      0   7.9250   NaN        S"
      ]
     },
     "metadata": {},
     "output_type": "display_data"
    },
    {
     "data": {
      "text/html": [
       "<div>\n",
       "<style scoped>\n",
       "    .dataframe tbody tr th:only-of-type {\n",
       "        vertical-align: middle;\n",
       "    }\n",
       "\n",
       "    .dataframe tbody tr th {\n",
       "        vertical-align: top;\n",
       "    }\n",
       "\n",
       "    .dataframe thead th {\n",
       "        text-align: right;\n",
       "    }\n",
       "</style>\n",
       "<table border=\"1\" class=\"dataframe\">\n",
       "  <thead>\n",
       "    <tr style=\"text-align: right;\">\n",
       "      <th></th>\n",
       "      <th>Pclass</th>\n",
       "      <th>Sex</th>\n",
       "      <th>Age</th>\n",
       "      <th>SibSp</th>\n",
       "      <th>Parch</th>\n",
       "      <th>Fare</th>\n",
       "      <th>Cabin</th>\n",
       "      <th>Embarked</th>\n",
       "    </tr>\n",
       "  </thead>\n",
       "  <tbody>\n",
       "    <tr>\n",
       "      <th>0</th>\n",
       "      <td>3</td>\n",
       "      <td>male</td>\n",
       "      <td>34.5</td>\n",
       "      <td>0</td>\n",
       "      <td>0</td>\n",
       "      <td>7.8292</td>\n",
       "      <td>NaN</td>\n",
       "      <td>Q</td>\n",
       "    </tr>\n",
       "    <tr>\n",
       "      <th>1</th>\n",
       "      <td>3</td>\n",
       "      <td>female</td>\n",
       "      <td>47.0</td>\n",
       "      <td>1</td>\n",
       "      <td>0</td>\n",
       "      <td>7.0000</td>\n",
       "      <td>NaN</td>\n",
       "      <td>S</td>\n",
       "    </tr>\n",
       "    <tr>\n",
       "      <th>2</th>\n",
       "      <td>2</td>\n",
       "      <td>male</td>\n",
       "      <td>62.0</td>\n",
       "      <td>0</td>\n",
       "      <td>0</td>\n",
       "      <td>9.6875</td>\n",
       "      <td>NaN</td>\n",
       "      <td>Q</td>\n",
       "    </tr>\n",
       "  </tbody>\n",
       "</table>\n",
       "</div>"
      ],
      "text/plain": [
       "   Pclass     Sex   Age  SibSp  Parch    Fare Cabin Embarked\n",
       "0       3    male  34.5      0      0  7.8292   NaN        Q\n",
       "1       3  female  47.0      1      0  7.0000   NaN        S\n",
       "2       2    male  62.0      0      0  9.6875   NaN        Q"
      ]
     },
     "metadata": {},
     "output_type": "display_data"
    }
   ],
   "source": [
    "train_X = train.drop(['PassengerId', 'Survived', 'Name', 'Ticket'], axis=1)\n",
    "train_y = train['Survived']\n",
    "test_X = test.drop(['PassengerId', 'Name', 'Ticket'], axis=1)\n",
    "\n",
    "display(train_X.head(3))\n",
    "display(test_X.head(3))"
   ]
  },
  {
   "cell_type": "markdown",
   "metadata": {},
   "source": [
    "# バリデーション"
   ]
  },
  {
   "cell_type": "code",
   "execution_count": 4,
   "metadata": {},
   "outputs": [],
   "source": [
    "from sklearn.model_selection import StratifiedKFold\n",
    "\n",
    "split = 5\n",
    "kf = StratifiedKFold(n_splits=split, shuffle=True, random_state=0)"
   ]
  },
  {
   "cell_type": "markdown",
   "metadata": {},
   "source": [
    "# スムーズド・ターゲットエンコーディング "
   ]
  },
  {
   "cell_type": "code",
   "execution_count": 16,
   "metadata": {},
   "outputs": [],
   "source": [
    "def smoothed_target_encoding_for_train(x_train, y_train, fold, categorical_col):\n",
    "    \n",
    "    tr_list = []\n",
    "    for i, (tr_idx, va_idx) in enumerate(fold.split(x_train, y_train)):\n",
    "        te = TargetEncoding_ws(categorical_col, k=200, impute=False)\n",
    "        tr_x, va_x = x_train.iloc[tr_idx], x_train.iloc[va_idx]\n",
    "        tr_y, va_y = y_train.iloc[tr_idx], y_train.iloc[va_idx]\n",
    "\n",
    "        te.fit(tr_x, tr_y, categorical_col)\n",
    "        file = 'te_fold_{}.pkl'.format(i)\n",
    "        pickle.dump(te, open(file, 'wb'))\n",
    "        va_x_tar = te.transform(va_x)\n",
    "        tr_list.append(va_x_tar)\n",
    "\n",
    "    x_train_tar = pd.concat(tr_list).sort_index()\n",
    "    return x_train_tar"
   ]
  },
  {
   "cell_type": "code",
   "execution_count": 17,
   "metadata": {},
   "outputs": [],
   "source": [
    "def smoothed_target_encoding_for_test(x_test, kf_split, categorical_col):\n",
    "    lists = []\n",
    "    x_test_ = x_test.copy()\n",
    "    for i in range(kf_split):\n",
    "        te = pickle.load(open('te_fold_{}.pkl'.format(i), 'rb'))\n",
    "        x_test_tar = te.transform(x_test)\n",
    "        values = []\n",
    "        for j in range(len(categorical_col)):\n",
    "            values.append(x_test_tar[categorical_col[j]])\n",
    "        lists.append(np.array(values))\n",
    "    for k in range(len(categorical_col)):\n",
    "        x_test_[categorical_col[k]] = np.array(lists)[:, k].mean(axis=0)\n",
    "    return x_test_"
   ]
  },
  {
   "cell_type": "markdown",
   "metadata": {},
   "source": [
    "# Optuna"
   ]
  },
  {
   "cell_type": "code",
   "execution_count": 8,
   "metadata": {},
   "outputs": [],
   "source": [
    "import sklearn.datasets\n",
    "import optuna.integration.lightgbm as oputunalgb\n",
    "\n",
    "def get_bestparams_optuna(x_train, y_train, fold):\n",
    "    trainval = lgb.Dataset(x_train, train_y)\n",
    "    params = {'objective' : 'binary',\n",
    "              'metric': 'binary_logloss',\n",
    "              'random_seed':0} \n",
    "\n",
    "    tuner = oputunalgb.LightGBMTunerCV(params, trainval, verbose_eval=100, early_stopping_rounds=100, folds=kf)\n",
    "    tuner.run()\n",
    "\n",
    "    best_params = tuner.best_params\n",
    "    print('='*200)\n",
    "    print(best_params)\n",
    "    return best_params"
   ]
  },
  {
   "cell_type": "markdown",
   "metadata": {},
   "source": [
    "# LGBM"
   ]
  },
  {
   "cell_type": "code",
   "execution_count": 9,
   "metadata": {},
   "outputs": [],
   "source": [
    "from sklearn.metrics import roc_auc_score, precision_score, recall_score\n",
    "import lightgbm as lgb\n",
    "\n",
    "def predict_cv(model, x_train, y_train, x_test, fold, categorical_col):\n",
    "    preds = []\n",
    "    preds_test = []\n",
    "    preds_proba = []\n",
    "    preds_test_proba = []\n",
    "    va_indexes = []\n",
    "    train_AUC_score = []\n",
    "    train_precision_score = []\n",
    "    train_recall_score = []\n",
    "    \n",
    "    feature_importance_df = pd.DataFrame()\n",
    "    col = list(x_train.columns)\n",
    "    feat_df = pd.DataFrame()\n",
    "    \n",
    "    # クロスバリデーションで学習・予測を行い、予測値とインデックスを保存する\n",
    "    te = TargetEncoding_ws(list_cols=categorical_col, k=200, impute=False)\n",
    "    \n",
    "    tr_list = []\n",
    "    for i, (tr_idx, va_idx) in enumerate(fold.split(x_train, y_train)):\n",
    "        tr_x, va_x = x_train.iloc[tr_idx], x_train.iloc[va_idx]\n",
    "        tr_y, va_y = y_train.iloc[tr_idx], y_train.iloc[va_idx]\n",
    "        \n",
    "        model.fit(tr_x, tr_y, \n",
    "                  eval_set= [(tr_x, tr_y), (va_x, va_y)],\n",
    "                  eval_metric='binary_logloss',\n",
    "                  verbose=100, \n",
    "                  early_stopping_rounds=20)\n",
    "        \n",
    "        \n",
    "        tr_pred_proba = model.predict_proba(tr_x)[:, 1]\n",
    "        pred_proba = model.predict_proba(va_x)[:, 1]\n",
    "        preds_proba.append(pred_proba)\n",
    "        pred_test_proba = model.predict_proba(x_test)[:, 1]\n",
    "        preds_test_proba.append(pred_test_proba)\n",
    "        va_indexes.append(va_idx)\n",
    "        \n",
    "        tr_pred = model.predict(tr_x)\n",
    "        pred = model.predict(va_x)\n",
    "        preds.append(pred)\n",
    "        pred_test = model.predict(x_test)\n",
    "        preds_test.append(pred_test)\n",
    "        \n",
    "        fold_feat_df = pd.DataFrame()\n",
    "        fold_feat_df[\"Feature_fold{}\".format(i)] = col\n",
    "        fold_feat_df[\"Importance_fold{}\".format(i)] = model.feature_importances_\n",
    "        feat_df = pd.concat([feat_df, fold_feat_df], axis=1)\n",
    "        print('  score AUC Train : {:.6f}' .format(roc_auc_score(tr_y, tr_pred_proba)), \n",
    "              '  score AUC Valid : {:.6f}' .format(roc_auc_score(va_y, pred_proba)))\n",
    "        print('  score precision Train : {:.6f}' .format(precision_score(tr_y, tr_pred)), \n",
    "              '  score precision Valid : {:.6f}' .format(precision_score(va_y, pred)))\n",
    "        print('  score recall Train : {:.6f}' .format(recall_score(tr_y, tr_pred)), \n",
    "              '  score recall Valid : {:.6f}' .format(recall_score(va_y, pred)))\n",
    "        train_AUC_score.append(roc_auc_score(tr_y, tr_pred))\n",
    "        train_precision_score.append(precision_score(tr_y, tr_pred))\n",
    "        train_recall_score.append(recall_score(tr_y, tr_pred))\n",
    "        \n",
    "    # バリデーションデータに対する予測値を連結し、その後元の順番に並べなおす\n",
    "    va_indexes = np.concatenate(va_indexes)\n",
    "    preds = np.concatenate(preds, axis=0)\n",
    "    order = np.argsort(va_indexes)\n",
    "    pred_train = pd.DataFrame(preds[order])\n",
    "    \n",
    "    \n",
    "    # テストデータに対する予測値の平均をとる\n",
    "    preds_test = pd.DataFrame(np.mean(preds_test, axis=0))\n",
    "    train_AUC_score_ = np.mean(train_AUC_score)\n",
    "    train_precision_score_ = np.mean(train_precision_score)\n",
    "    train_recall_score_ = np.mean(train_recall_score)\n",
    "    print('*'*40)\n",
    "    print('train AUC Score : {:.6f}' .format(train_AUC_score_))\n",
    "    print('valid AUC Score : {:.6f}' .format(roc_auc_score(train_y, pred_train)))\n",
    "    print('train AUC Score - valid Score : {:.6f}'.format(train_AUC_score_ - roc_auc_score(train_y, pred_train)))\n",
    "    \n",
    "    print('train precision Score : {:.6f}' .format(train_precision_score_))\n",
    "    print('valid precision Score : {:.6f}' .format(precision_score(train_y, pred_train)))\n",
    "    print('train precision Score - valid Score : {:.6f}'.format(train_precision_score_ - precision_score(train_y, pred_train)))\n",
    "    \n",
    "    print('train recall Score : {:.6f}' .format(train_recall_score_))\n",
    "    print('valid recall Score : {:.6f}' .format(recall_score(train_y, pred_train)))\n",
    "    print('train recall Score - valid Score : {:.6f}'.format(train_recall_score_ - recall_score(train_y, pred_train)))\n",
    "    \n",
    "    a = feat_df[[\"Feature_fold0\",\"Importance_fold0\"]]\n",
    "    b = feat_df[[\"Feature_fold1\",\"Importance_fold1\"]].rename(columns={\"Feature_fold1\":\"Feature_fold0\", \"Importance_fold1\":\"Importance_fold0\"})\n",
    "    c = feat_df[[\"Feature_fold2\",\"Importance_fold2\"]].rename(columns={\"Feature_fold2\":\"Feature_fold0\", \"Importance_fold2\":\"Importance_fold0\"})\n",
    "    d = feat_df[[\"Feature_fold3\",\"Importance_fold3\"]].rename(columns={\"Feature_fold3\":\"Feature_fold0\", \"Importance_fold3\":\"Importance_fold0\"})\n",
    "    e = feat_df[[\"Feature_fold4\",\"Importance_fold4\"]].rename(columns={\"Feature_fold4\":\"Feature_fold0\", \"Importance_fold4\":\"Importance_fold0\"})\n",
    "    \n",
    "    feat = pd.concat([a, b, c, d, e]).reset_index()\n",
    "    indices = feat.groupby(\"Feature_fold0\")[\"Importance_fold0\"].agg(\"mean\").reset_index().sort_values(\"Importance_fold0\", ascending=False)[[\"Feature_fold0\",'Importance_fold0']]\n",
    "    plt.figure(figsize=(14, 4))\n",
    "    plt.title(\"重要度上位50\")\n",
    "    sns.barplot(x=\"Importance_fold0\", y=\"Feature_fold0\", data=feat, order=indices.iloc[:50, 0])\n",
    "    plt.show()\n",
    "    \n",
    "    return pred_train, preds_test, model"
   ]
  },
  {
   "cell_type": "code",
   "execution_count": 10,
   "metadata": {
    "scrolled": true
   },
   "outputs": [
    {
     "name": "stderr",
     "output_type": "stream",
     "text": [
      "feature_fraction, val_score: inf:   0%|                                                          | 0/7 [00:00<?, ?it/s]"
     ]
    },
    {
     "name": "stdout",
     "output_type": "stream",
     "text": [
      "[100]\tcv_agg's binary_logloss: 0.542255 + 0.160569\n"
     ]
    },
    {
     "name": "stderr",
     "output_type": "stream",
     "text": [
      "feature_fraction, val_score: 0.493090:  14%|######4                                      | 1/7 [00:00<00:02,  2.94it/s][I 2021-03-17 16:07:18,055] Trial 0 finished with value: 0.4930898102751276 and parameters: {'feature_fraction': 0.5}. Best is trial 0 with value: 0.4930898102751276.\n",
      "feature_fraction, val_score: 0.493090:  14%|######4                                      | 1/7 [00:00<00:02,  2.94it/s]"
     ]
    },
    {
     "name": "stdout",
     "output_type": "stream",
     "text": [
      "[100]\tcv_agg's binary_logloss: 0.561171 + 0.178595\n"
     ]
    },
    {
     "name": "stderr",
     "output_type": "stream",
     "text": [
      "feature_fraction, val_score: 0.477278:  29%|############8                                | 2/7 [00:00<00:01,  3.06it/s][I 2021-03-17 16:07:18,351] Trial 1 finished with value: 0.4772779177597914 and parameters: {'feature_fraction': 0.8}. Best is trial 1 with value: 0.4772779177597914.\n",
      "feature_fraction, val_score: 0.477278:  29%|############8                                | 2/7 [00:00<00:01,  3.06it/s]"
     ]
    },
    {
     "name": "stdout",
     "output_type": "stream",
     "text": [
      "[100]\tcv_agg's binary_logloss: 0.52417 + 0.14301\n"
     ]
    },
    {
     "name": "stderr",
     "output_type": "stream",
     "text": [
      "feature_fraction, val_score: 0.477278:  43%|###################2                         | 3/7 [00:00<00:01,  3.17it/s][I 2021-03-17 16:07:18,640] Trial 2 finished with value: 0.49021575243661825 and parameters: {'feature_fraction': 0.4}. Best is trial 1 with value: 0.4772779177597914.\n",
      "feature_fraction, val_score: 0.477278:  43%|###################2                         | 3/7 [00:00<00:01,  3.17it/s]"
     ]
    },
    {
     "name": "stdout",
     "output_type": "stream",
     "text": [
      "[100]\tcv_agg's binary_logloss: 0.53975 + 0.160348\n"
     ]
    },
    {
     "name": "stderr",
     "output_type": "stream",
     "text": [
      "feature_fraction, val_score: 0.477278:  57%|#########################7                   | 4/7 [00:01<00:01,  2.95it/s][I 2021-03-17 16:07:19,034] Trial 3 finished with value: 0.4852462413953746 and parameters: {'feature_fraction': 0.7}. Best is trial 1 with value: 0.4772779177597914.\n",
      "feature_fraction, val_score: 0.477278:  57%|#########################7                   | 4/7 [00:01<00:01,  2.95it/s]"
     ]
    },
    {
     "name": "stdout",
     "output_type": "stream",
     "text": [
      "[100]\tcv_agg's binary_logloss: 0.566286 + 0.189419\n"
     ]
    },
    {
     "name": "stderr",
     "output_type": "stream",
     "text": [
      "feature_fraction, val_score: 0.475648:  71%|################################1            | 5/7 [00:01<00:00,  2.82it/s][I 2021-03-17 16:07:19,424] Trial 4 finished with value: 0.4756478012705685 and parameters: {'feature_fraction': 0.8999999999999999}. Best is trial 4 with value: 0.4756478012705685.\n",
      "feature_fraction, val_score: 0.475648:  71%|################################1            | 5/7 [00:01<00:00,  2.82it/s]"
     ]
    },
    {
     "name": "stdout",
     "output_type": "stream",
     "text": [
      "[100]\tcv_agg's binary_logloss: 0.542255 + 0.160569\n"
     ]
    },
    {
     "name": "stderr",
     "output_type": "stream",
     "text": [
      "feature_fraction, val_score: 0.475648:  86%|######################################5      | 6/7 [00:02<00:00,  2.83it/s][I 2021-03-17 16:07:19,774] Trial 5 finished with value: 0.4930898102751276 and parameters: {'feature_fraction': 0.6}. Best is trial 4 with value: 0.4756478012705685.\n",
      "feature_fraction, val_score: 0.475648:  86%|######################################5      | 6/7 [00:02<00:00,  2.83it/s]"
     ]
    },
    {
     "name": "stdout",
     "output_type": "stream",
     "text": [
      "[100]\tcv_agg's binary_logloss: 0.582001 + 0.196776\n"
     ]
    },
    {
     "name": "stderr",
     "output_type": "stream",
     "text": [
      "feature_fraction, val_score: 0.475648: 100%|#############################################| 7/7 [00:02<00:00,  2.83it/s][I 2021-03-17 16:07:20,130] Trial 6 finished with value: 0.48377199025207107 and parameters: {'feature_fraction': 1.0}. Best is trial 4 with value: 0.4756478012705685.\n",
      "feature_fraction, val_score: 0.475648: 100%|#############################################| 7/7 [00:02<00:00,  2.89it/s]\n",
      "num_leaves, val_score: 0.475648:   0%|                                                          | 0/20 [00:00<?, ?it/s]"
     ]
    },
    {
     "name": "stdout",
     "output_type": "stream",
     "text": [
      "[100]\tcv_agg's binary_logloss: 0.566286 + 0.189419\n"
     ]
    },
    {
     "name": "stderr",
     "output_type": "stream",
     "text": [
      "num_leaves, val_score: 0.475648:   5%|##5                                               | 1/20 [00:00<00:07,  2.48it/s][I 2021-03-17 16:07:20,543] Trial 7 finished with value: 0.4756478012705685 and parameters: {'num_leaves': 120}. Best is trial 7 with value: 0.4756478012705685.\n",
      "num_leaves, val_score: 0.475648:   5%|##5                                               | 1/20 [00:00<00:07,  2.48it/s]"
     ]
    },
    {
     "name": "stdout",
     "output_type": "stream",
     "text": [
      "[100]\tcv_agg's binary_logloss: 0.566286 + 0.189419\n"
     ]
    },
    {
     "name": "stderr",
     "output_type": "stream",
     "text": [
      "num_leaves, val_score: 0.475648:  10%|#####                                             | 2/20 [00:00<00:07,  2.39it/s][I 2021-03-17 16:07:20,996] Trial 8 finished with value: 0.4756478012705685 and parameters: {'num_leaves': 157}. Best is trial 7 with value: 0.4756478012705685.\n",
      "num_leaves, val_score: 0.475648:  10%|#####                                             | 2/20 [00:00<00:07,  2.39it/s]"
     ]
    },
    {
     "name": "stdout",
     "output_type": "stream",
     "text": [
      "[100]\tcv_agg's binary_logloss: 0.566286 + 0.189419\n"
     ]
    },
    {
     "name": "stderr",
     "output_type": "stream",
     "text": [
      "num_leaves, val_score: 0.475648:  15%|#######5                                          | 3/20 [00:01<00:07,  2.41it/s][I 2021-03-17 16:07:21,406] Trial 9 finished with value: 0.4756478012705685 and parameters: {'num_leaves': 120}. Best is trial 7 with value: 0.4756478012705685.\n",
      "num_leaves, val_score: 0.475648:  15%|#######5                                          | 3/20 [00:01<00:07,  2.41it/s]"
     ]
    },
    {
     "name": "stdout",
     "output_type": "stream",
     "text": [
      "[100]\tcv_agg's binary_logloss: 0.544699 + 0.177042\n"
     ]
    },
    {
     "name": "stderr",
     "output_type": "stream",
     "text": [
      "num_leaves, val_score: 0.475648:  20%|##########                                        | 4/20 [00:01<00:05,  2.84it/s][I 2021-03-17 16:07:21,608] Trial 10 finished with value: 0.4762054085608537 and parameters: {'num_leaves': 21}. Best is trial 7 with value: 0.4756478012705685.\n",
      "num_leaves, val_score: 0.475648:  20%|##########                                        | 4/20 [00:01<00:05,  2.84it/s]"
     ]
    },
    {
     "name": "stdout",
     "output_type": "stream",
     "text": [
      "[100]\tcv_agg's binary_logloss: 0.566286 + 0.189419\n"
     ]
    },
    {
     "name": "stderr",
     "output_type": "stream",
     "text": [
      "num_leaves, val_score: 0.475648:  25%|############5                                     | 5/20 [00:01<00:05,  2.93it/s][I 2021-03-17 16:07:21,926] Trial 11 finished with value: 0.4756478012705685 and parameters: {'num_leaves': 63}. Best is trial 7 with value: 0.4756478012705685.\n",
      "num_leaves, val_score: 0.475648:  25%|############5                                     | 5/20 [00:01<00:05,  2.93it/s]"
     ]
    },
    {
     "name": "stdout",
     "output_type": "stream",
     "text": [
      "[100]\tcv_agg's binary_logloss: 0.566286 + 0.189419\n"
     ]
    },
    {
     "name": "stderr",
     "output_type": "stream",
     "text": [
      "num_leaves, val_score: 0.475648:  30%|###############                                   | 6/20 [00:02<00:04,  2.95it/s][I 2021-03-17 16:07:22,258] Trial 12 finished with value: 0.4756478012705685 and parameters: {'num_leaves': 255}. Best is trial 7 with value: 0.4756478012705685.\n",
      "num_leaves, val_score: 0.475648:  30%|###############                                   | 6/20 [00:02<00:04,  2.95it/s]"
     ]
    },
    {
     "name": "stdout",
     "output_type": "stream",
     "text": [
      "[100]\tcv_agg's binary_logloss: 0.566286 + 0.189419\n"
     ]
    },
    {
     "name": "stderr",
     "output_type": "stream",
     "text": [
      "num_leaves, val_score: 0.475648:  35%|#################5                                | 7/20 [00:02<00:04,  2.89it/s][I 2021-03-17 16:07:22,623] Trial 13 finished with value: 0.4756478012705685 and parameters: {'num_leaves': 197}. Best is trial 7 with value: 0.4756478012705685.\n",
      "num_leaves, val_score: 0.475648:  35%|#################5                                | 7/20 [00:02<00:04,  2.89it/s]"
     ]
    },
    {
     "name": "stdout",
     "output_type": "stream",
     "text": [
      "[100]\tcv_agg's binary_logloss: 0.566286 + 0.189419\n"
     ]
    },
    {
     "name": "stderr",
     "output_type": "stream",
     "text": [
      "num_leaves, val_score: 0.475648:  40%|####################                              | 8/20 [00:02<00:04,  2.93it/s][I 2021-03-17 16:07:22,950] Trial 14 finished with value: 0.4756478012705685 and parameters: {'num_leaves': 80}. Best is trial 7 with value: 0.4756478012705685.\n",
      "num_leaves, val_score: 0.475648:  40%|####################                              | 8/20 [00:02<00:04,  2.93it/s]"
     ]
    },
    {
     "name": "stdout",
     "output_type": "stream",
     "text": [
      "[100]\tcv_agg's binary_logloss: 0.566286 + 0.189419\n"
     ]
    },
    {
     "name": "stderr",
     "output_type": "stream",
     "text": [
      "num_leaves, val_score: 0.475648:  45%|######################5                           | 9/20 [00:03<00:03,  2.94it/s][I 2021-03-17 16:07:23,290] Trial 15 finished with value: 0.4756478012705685 and parameters: {'num_leaves': 207}. Best is trial 7 with value: 0.4756478012705685.\n",
      "num_leaves, val_score: 0.475648:  45%|######################5                           | 9/20 [00:03<00:03,  2.94it/s]"
     ]
    },
    {
     "name": "stdout",
     "output_type": "stream",
     "text": [
      "[100]\tcv_agg's binary_logloss: 0.566286 + 0.189419\n"
     ]
    },
    {
     "name": "stderr",
     "output_type": "stream",
     "text": [
      "num_leaves, val_score: 0.475648:  50%|########################5                        | 10/20 [00:03<00:03,  3.00it/s][I 2021-03-17 16:07:23,609] Trial 16 finished with value: 0.4756478012705685 and parameters: {'num_leaves': 125}. Best is trial 7 with value: 0.4756478012705685.\n",
      "num_leaves, val_score: 0.475648:  50%|########################5                        | 10/20 [00:03<00:03,  3.00it/s]"
     ]
    },
    {
     "name": "stdout",
     "output_type": "stream",
     "text": [
      "[100]\tcv_agg's binary_logloss: 0.566286 + 0.189419\n"
     ]
    },
    {
     "name": "stderr",
     "output_type": "stream",
     "text": [
      "num_leaves, val_score: 0.475648:  55%|##########################9                      | 11/20 [00:03<00:02,  3.04it/s][I 2021-03-17 16:07:23,925] Trial 17 finished with value: 0.4756478012705685 and parameters: {'num_leaves': 72}. Best is trial 7 with value: 0.4756478012705685.\n",
      "num_leaves, val_score: 0.475648:  55%|##########################9                      | 11/20 [00:03<00:02,  3.04it/s]"
     ]
    },
    {
     "name": "stdout",
     "output_type": "stream",
     "text": [
      "[100]\tcv_agg's binary_logloss: 0.566286 + 0.189419\n"
     ]
    },
    {
     "name": "stderr",
     "output_type": "stream",
     "text": [
      "num_leaves, val_score: 0.475648:  60%|#############################4                   | 12/20 [00:04<00:02,  3.03it/s][I 2021-03-17 16:07:24,258] Trial 18 finished with value: 0.4756478012705685 and parameters: {'num_leaves': 204}. Best is trial 7 with value: 0.4756478012705685.\n",
      "num_leaves, val_score: 0.475648:  60%|#############################4                   | 12/20 [00:04<00:02,  3.03it/s]"
     ]
    },
    {
     "name": "stdout",
     "output_type": "stream",
     "text": [
      "[100]\tcv_agg's binary_logloss: 0.566286 + 0.189419\n"
     ]
    },
    {
     "name": "stderr",
     "output_type": "stream",
     "text": [
      "num_leaves, val_score: 0.475648:  65%|###############################8                 | 13/20 [00:04<00:02,  2.79it/s][I 2021-03-17 16:07:24,683] Trial 19 finished with value: 0.4756478012705685 and parameters: {'num_leaves': 122}. Best is trial 7 with value: 0.4756478012705685.\n",
      "num_leaves, val_score: 0.475648:  65%|###############################8                 | 13/20 [00:04<00:02,  2.79it/s]"
     ]
    },
    {
     "name": "stdout",
     "output_type": "stream",
     "text": [
      "[100]\tcv_agg's binary_logloss: 0.556327 + 0.183578\n"
     ]
    },
    {
     "name": "stderr",
     "output_type": "stream",
     "text": [
      "num_leaves, val_score: 0.475648:  70%|##################################3              | 14/20 [00:04<00:01,  3.16it/s][I 2021-03-17 16:07:24,903] Trial 20 finished with value: 0.4778010189223171 and parameters: {'num_leaves': 23}. Best is trial 7 with value: 0.4756478012705685.\n",
      "num_leaves, val_score: 0.475648:  70%|##################################3              | 14/20 [00:04<00:01,  3.16it/s]"
     ]
    },
    {
     "name": "stdout",
     "output_type": "stream",
     "text": [
      "[100]\tcv_agg's binary_logloss: 0.566286 + 0.189419\n"
     ]
    },
    {
     "name": "stderr",
     "output_type": "stream",
     "text": [
      "num_leaves, val_score: 0.475648:  75%|####################################7            | 15/20 [00:05<00:01,  3.01it/s][I 2021-03-17 16:07:25,272] Trial 21 finished with value: 0.4756478012705685 and parameters: {'num_leaves': 250}. Best is trial 7 with value: 0.4756478012705685.\n",
      "num_leaves, val_score: 0.475648:  75%|####################################7            | 15/20 [00:05<00:01,  3.01it/s]"
     ]
    },
    {
     "name": "stdout",
     "output_type": "stream",
     "text": [
      "[100]\tcv_agg's binary_logloss: 0.566286 + 0.189419\n"
     ]
    },
    {
     "name": "stderr",
     "output_type": "stream",
     "text": [
      "num_leaves, val_score: 0.475648:  80%|#######################################2         | 16/20 [00:05<00:01,  2.91it/s][I 2021-03-17 16:07:25,642] Trial 22 finished with value: 0.4756478012705685 and parameters: {'num_leaves': 256}. Best is trial 7 with value: 0.4756478012705685.\n",
      "num_leaves, val_score: 0.475648:  80%|#######################################2         | 16/20 [00:05<00:01,  2.91it/s]"
     ]
    },
    {
     "name": "stdout",
     "output_type": "stream",
     "text": [
      "[100]\tcv_agg's binary_logloss: 0.566286 + 0.189419\n"
     ]
    },
    {
     "name": "stderr",
     "output_type": "stream",
     "text": [
      "num_leaves, val_score: 0.475648:  85%|#########################################6       | 17/20 [00:05<00:01,  2.91it/s][I 2021-03-17 16:07:25,985] Trial 23 finished with value: 0.4756478012705685 and parameters: {'num_leaves': 78}. Best is trial 7 with value: 0.4756478012705685.\n",
      "num_leaves, val_score: 0.475648:  85%|#########################################6       | 17/20 [00:05<00:01,  2.91it/s]"
     ]
    },
    {
     "name": "stdout",
     "output_type": "stream",
     "text": [
      "[100]\tcv_agg's binary_logloss: 0.566286 + 0.189419\n"
     ]
    },
    {
     "name": "stderr",
     "output_type": "stream",
     "text": [
      "num_leaves, val_score: 0.475648:  90%|############################################1    | 18/20 [00:06<00:00,  2.90it/s][I 2021-03-17 16:07:26,333] Trial 24 finished with value: 0.4756478012705685 and parameters: {'num_leaves': 49}. Best is trial 7 with value: 0.4756478012705685.\n",
      "num_leaves, val_score: 0.475648:  90%|############################################1    | 18/20 [00:06<00:00,  2.90it/s]"
     ]
    },
    {
     "name": "stdout",
     "output_type": "stream",
     "text": [
      "[100]\tcv_agg's binary_logloss: 0.566286 + 0.189419\n"
     ]
    },
    {
     "name": "stderr",
     "output_type": "stream",
     "text": [
      "num_leaves, val_score: 0.475648:  95%|##############################################5  | 19/20 [00:06<00:00,  2.84it/s][I 2021-03-17 16:07:26,704] Trial 25 finished with value: 0.4756478012705685 and parameters: {'num_leaves': 248}. Best is trial 7 with value: 0.4756478012705685.\n",
      "num_leaves, val_score: 0.475648:  95%|##############################################5  | 19/20 [00:06<00:00,  2.84it/s]"
     ]
    },
    {
     "name": "stdout",
     "output_type": "stream",
     "text": [
      "[100]\tcv_agg's binary_logloss: 0.566286 + 0.189419\n"
     ]
    },
    {
     "name": "stderr",
     "output_type": "stream",
     "text": [
      "num_leaves, val_score: 0.475648: 100%|#################################################| 20/20 [00:07<00:00,  2.57it/s][I 2021-03-17 16:07:27,179] Trial 26 finished with value: 0.4756478012705685 and parameters: {'num_leaves': 229}. Best is trial 7 with value: 0.4756478012705685.\n",
      "num_leaves, val_score: 0.475648: 100%|#################################################| 20/20 [00:07<00:00,  2.84it/s]\n",
      "bagging, val_score: 0.475648:   0%|                                                             | 0/10 [00:00<?, ?it/s]"
     ]
    },
    {
     "name": "stdout",
     "output_type": "stream",
     "text": [
      "[100]\tcv_agg's binary_logloss: 0.554902 + 0.173106\n"
     ]
    },
    {
     "name": "stderr",
     "output_type": "stream",
     "text": [
      "bagging, val_score: 0.475648:  10%|#####3                                               | 1/10 [00:00<00:03,  2.81it/s][I 2021-03-17 16:07:27,543] Trial 27 finished with value: 0.4801115078180428 and parameters: {'bagging_fraction': 0.9668010909344966, 'bagging_freq': 1}. Best is trial 27 with value: 0.4801115078180428.\n",
      "bagging, val_score: 0.475648:  10%|#####3                                               | 1/10 [00:00<00:03,  2.81it/s]"
     ]
    },
    {
     "name": "stdout",
     "output_type": "stream",
     "text": [
      "[100]\tcv_agg's binary_logloss: 0.508935 + 0.113004\n"
     ]
    },
    {
     "name": "stderr",
     "output_type": "stream",
     "text": [
      "bagging, val_score: 0.475648:  20%|##########6                                          | 2/10 [00:00<00:02,  3.03it/s][I 2021-03-17 16:07:27,810] Trial 28 finished with value: 0.4836354044956114 and parameters: {'bagging_fraction': 0.40318980471149174, 'bagging_freq': 7}. Best is trial 27 with value: 0.4801115078180428.\n",
      "bagging, val_score: 0.475648:  20%|##########6                                          | 2/10 [00:00<00:02,  3.03it/s]"
     ]
    },
    {
     "name": "stdout",
     "output_type": "stream",
     "text": [
      "[100]\tcv_agg's binary_logloss: 0.504712 + 0.111965\n"
     ]
    },
    {
     "name": "stderr",
     "output_type": "stream",
     "text": [
      "bagging, val_score: 0.475648:  30%|###############9                                     | 3/10 [00:00<00:02,  3.09it/s][I 2021-03-17 16:07:28,119] Trial 29 finished with value: 0.488364384185995 and parameters: {'bagging_fraction': 0.5727379560459522, 'bagging_freq': 4}. Best is trial 27 with value: 0.4801115078180428.\n",
      "bagging, val_score: 0.475648:  30%|###############9                                     | 3/10 [00:00<00:02,  3.09it/s]"
     ]
    },
    {
     "name": "stdout",
     "output_type": "stream",
     "text": [
      "[100]\tcv_agg's binary_logloss: 0.566795 + 0.174378\n"
     ]
    },
    {
     "name": "stderr",
     "output_type": "stream",
     "text": [
      "bagging, val_score: 0.475648:  40%|#####################2                               | 4/10 [00:01<00:01,  3.09it/s][I 2021-03-17 16:07:28,445] Trial 30 finished with value: 0.4829580551897489 and parameters: {'bagging_fraction': 0.9724826526265371, 'bagging_freq': 7}. Best is trial 27 with value: 0.4801115078180428.\n",
      "bagging, val_score: 0.475648:  40%|#####################2                               | 4/10 [00:01<00:01,  3.09it/s]"
     ]
    },
    {
     "name": "stdout",
     "output_type": "stream",
     "text": [
      "[100]\tcv_agg's binary_logloss: 0.528423 + 0.162033\n"
     ]
    },
    {
     "name": "stderr",
     "output_type": "stream",
     "text": [
      "bagging, val_score: 0.474642:  50%|##########################5                          | 5/10 [00:01<00:01,  3.14it/s][I 2021-03-17 16:07:28,751] Trial 31 finished with value: 0.4746421509674141 and parameters: {'bagging_fraction': 0.7493798570536074, 'bagging_freq': 1}. Best is trial 31 with value: 0.4746421509674141.\n",
      "bagging, val_score: 0.474642:  50%|##########################5                          | 5/10 [00:01<00:01,  3.14it/s]"
     ]
    },
    {
     "name": "stdout",
     "output_type": "stream",
     "text": [
      "[100]\tcv_agg's binary_logloss: 0.523732 + 0.158096\n"
     ]
    },
    {
     "name": "stderr",
     "output_type": "stream",
     "text": [
      "bagging, val_score: 0.469838:  60%|###############################8                     | 6/10 [00:01<00:01,  3.17it/s][I 2021-03-17 16:07:29,059] Trial 32 finished with value: 0.4698375602674313 and parameters: {'bagging_fraction': 0.7505667623130245, 'bagging_freq': 1}. Best is trial 32 with value: 0.4698375602674313.\n",
      "bagging, val_score: 0.469838:  60%|###############################8                     | 6/10 [00:01<00:01,  3.17it/s]"
     ]
    },
    {
     "name": "stdout",
     "output_type": "stream",
     "text": [
      "[100]\tcv_agg's binary_logloss: 0.520734 + 0.164342\n"
     ]
    },
    {
     "name": "stderr",
     "output_type": "stream",
     "text": [
      "bagging, val_score: 0.469838:  70%|#####################################                | 7/10 [00:02<00:01,  2.99it/s][I 2021-03-17 16:07:29,437] Trial 33 finished with value: 0.4800898965124697 and parameters: {'bagging_fraction': 0.7578771029995213, 'bagging_freq': 1}. Best is trial 32 with value: 0.4698375602674313.\n",
      "bagging, val_score: 0.469838:  70%|#####################################                | 7/10 [00:02<00:01,  2.99it/s]"
     ]
    },
    {
     "name": "stdout",
     "output_type": "stream",
     "text": [
      "[100]\tcv_agg's binary_logloss: 0.525486 + 0.150639\n"
     ]
    },
    {
     "name": "stderr",
     "output_type": "stream",
     "text": [
      "bagging, val_score: 0.469838:  80%|##########################################4          | 8/10 [00:02<00:00,  2.70it/s][I 2021-03-17 16:07:29,893] Trial 34 finished with value: 0.47629831436712217 and parameters: {'bagging_fraction': 0.7499643208663793, 'bagging_freq': 3}. Best is trial 32 with value: 0.4698375602674313.\n",
      "bagging, val_score: 0.469838:  80%|##########################################4          | 8/10 [00:02<00:00,  2.70it/s]"
     ]
    },
    {
     "name": "stdout",
     "output_type": "stream",
     "text": [
      "[100]\tcv_agg's binary_logloss: 0.510221 + 0.135996\n"
     ]
    },
    {
     "name": "stderr",
     "output_type": "stream",
     "text": [
      "bagging, val_score: 0.469838:  90%|###############################################7     | 9/10 [00:03<00:00,  2.67it/s][I 2021-03-17 16:07:30,277] Trial 35 finished with value: 0.4806626302593003 and parameters: {'bagging_fraction': 0.6382933655272445, 'bagging_freq': 2}. Best is trial 32 with value: 0.4698375602674313.\n",
      "bagging, val_score: 0.469838:  90%|###############################################7     | 9/10 [00:03<00:00,  2.67it/s]"
     ]
    },
    {
     "name": "stdout",
     "output_type": "stream",
     "text": [
      "[100]\tcv_agg's binary_logloss: 0.5529 + 0.168999\n"
     ]
    },
    {
     "name": "stderr",
     "output_type": "stream",
     "text": [
      "bagging, val_score: 0.469838: 100%|####################################################| 10/10 [00:03<00:00,  2.67it/s][I 2021-03-17 16:07:30,649] Trial 36 finished with value: 0.48083710421141745 and parameters: {'bagging_fraction': 0.8365604851496818, 'bagging_freq': 5}. Best is trial 32 with value: 0.4698375602674313.\n",
      "bagging, val_score: 0.469838: 100%|####################################################| 10/10 [00:03<00:00,  2.89it/s]\n",
      "feature_fraction_stage2, val_score: 0.469838:   0%|                                              | 0/6 [00:00<?, ?it/s]"
     ]
    },
    {
     "name": "stdout",
     "output_type": "stream",
     "text": [
      "[100]\tcv_agg's binary_logloss: 0.51854 + 0.153599\n"
     ]
    },
    {
     "name": "stderr",
     "output_type": "stream",
     "text": [
      "feature_fraction_stage2, val_score: 0.469838:  17%|######3                               | 1/6 [00:00<00:01,  2.63it/s][I 2021-03-17 16:07:31,036] Trial 37 finished with value: 0.4802789520902522 and parameters: {'feature_fraction': 0.852}. Best is trial 37 with value: 0.4802789520902522.\n",
      "feature_fraction_stage2, val_score: 0.469838:  17%|######3                               | 1/6 [00:00<00:01,  2.63it/s]"
     ]
    },
    {
     "name": "stdout",
     "output_type": "stream",
     "text": [
      "[100]\tcv_agg's binary_logloss: 0.523732 + 0.158096\n"
     ]
    },
    {
     "name": "stderr",
     "output_type": "stream",
     "text": [
      "feature_fraction_stage2, val_score: 0.469838:  33%|############6                         | 2/6 [00:00<00:01,  2.65it/s][I 2021-03-17 16:07:31,404] Trial 38 finished with value: 0.4698375602674313 and parameters: {'feature_fraction': 0.9799999999999999}. Best is trial 38 with value: 0.4698375602674313.\n",
      "feature_fraction_stage2, val_score: 0.469838:  33%|############6                         | 2/6 [00:00<00:01,  2.65it/s]"
     ]
    },
    {
     "name": "stdout",
     "output_type": "stream",
     "text": [
      "[100]\tcv_agg's binary_logloss: 0.523732 + 0.158096\n"
     ]
    },
    {
     "name": "stderr",
     "output_type": "stream",
     "text": [
      "feature_fraction_stage2, val_score: 0.469838:  50%|###################                   | 3/6 [00:01<00:01,  2.83it/s][I 2021-03-17 16:07:31,703] Trial 39 finished with value: 0.4698375602674313 and parameters: {'feature_fraction': 0.9159999999999999}. Best is trial 38 with value: 0.4698375602674313.\n",
      "feature_fraction_stage2, val_score: 0.469838:  50%|###################                   | 3/6 [00:01<00:01,  2.83it/s]"
     ]
    },
    {
     "name": "stdout",
     "output_type": "stream",
     "text": [
      "[100]\tcv_agg's binary_logloss: 0.523732 + 0.158096\n"
     ]
    },
    {
     "name": "stderr",
     "output_type": "stream",
     "text": [
      "feature_fraction_stage2, val_score: 0.469838:  67%|#########################3            | 4/6 [00:01<00:00,  2.94it/s][I 2021-03-17 16:07:32,013] Trial 40 finished with value: 0.4698375602674313 and parameters: {'feature_fraction': 0.948}. Best is trial 38 with value: 0.4698375602674313.\n",
      "feature_fraction_stage2, val_score: 0.469838:  67%|#########################3            | 4/6 [00:01<00:00,  2.94it/s]"
     ]
    },
    {
     "name": "stdout",
     "output_type": "stream",
     "text": [
      "[100]\tcv_agg's binary_logloss: 0.51854 + 0.153599\n"
     ]
    },
    {
     "name": "stderr",
     "output_type": "stream",
     "text": [
      "feature_fraction_stage2, val_score: 0.469838:  83%|###############################6      | 5/6 [00:01<00:00,  3.03it/s][I 2021-03-17 16:07:32,316] Trial 41 finished with value: 0.4802789520902522 and parameters: {'feature_fraction': 0.82}. Best is trial 38 with value: 0.4698375602674313.\n",
      "feature_fraction_stage2, val_score: 0.469838:  83%|###############################6      | 5/6 [00:01<00:00,  3.03it/s]"
     ]
    },
    {
     "name": "stdout",
     "output_type": "stream",
     "text": [
      "[100]\tcv_agg's binary_logloss: 0.523732 + 0.158096\n"
     ]
    },
    {
     "name": "stderr",
     "output_type": "stream",
     "text": [
      "feature_fraction_stage2, val_score: 0.469838: 100%|######################################| 6/6 [00:01<00:00,  3.05it/s][I 2021-03-17 16:07:32,642] Trial 42 finished with value: 0.4698375602674313 and parameters: {'feature_fraction': 0.8839999999999999}. Best is trial 38 with value: 0.4698375602674313.\n",
      "feature_fraction_stage2, val_score: 0.469838: 100%|######################################| 6/6 [00:01<00:00,  3.01it/s]\n",
      "regularization_factors, val_score: 0.469838:   0%|                                              | 0/20 [00:00<?, ?it/s]"
     ]
    },
    {
     "name": "stdout",
     "output_type": "stream",
     "text": [
      "[100]\tcv_agg's binary_logloss: 0.526945 + 0.158934\n"
     ]
    },
    {
     "name": "stderr",
     "output_type": "stream",
     "text": [
      "regularization_factors, val_score: 0.469838:   5%|#9                                    | 1/20 [00:00<00:06,  3.13it/s][I 2021-03-17 16:07:32,969] Trial 43 finished with value: 0.4718686361380252 and parameters: {'lambda_l1': 3.542740810275837e-05, 'lambda_l2': 1.502956622836964e-06}. Best is trial 43 with value: 0.4718686361380252.\n",
      "regularization_factors, val_score: 0.469838:   5%|#9                                    | 1/20 [00:00<00:06,  3.13it/s]"
     ]
    },
    {
     "name": "stdout",
     "output_type": "stream",
     "text": [
      "[100]\tcv_agg's binary_logloss: 0.483088 + 0.109931\n",
      "[200]\tcv_agg's binary_logloss: 0.486134 + 0.113691\n"
     ]
    },
    {
     "name": "stderr",
     "output_type": "stream",
     "text": [
      "regularization_factors, val_score: 0.469838:  10%|###8                                  | 2/20 [00:00<00:06,  2.71it/s][I 2021-03-17 16:07:33,453] Trial 44 finished with value: 0.4802066256923664 and parameters: {'lambda_l1': 0.6993096380012926, 'lambda_l2': 8.215547608010368}. Best is trial 43 with value: 0.4718686361380252.\n",
      "regularization_factors, val_score: 0.469838:  10%|###8                                  | 2/20 [00:00<00:06,  2.71it/s]"
     ]
    },
    {
     "name": "stdout",
     "output_type": "stream",
     "text": [
      "[100]\tcv_agg's binary_logloss: 0.508677 + 0.145389\n"
     ]
    },
    {
     "name": "stderr",
     "output_type": "stream",
     "text": [
      "regularization_factors, val_score: 0.469838:  15%|#####7                                | 3/20 [00:01<00:05,  2.85it/s][I 2021-03-17 16:07:33,763] Trial 45 finished with value: 0.4776893487642891 and parameters: {'lambda_l1': 1.1742508885206416e-08, 'lambda_l2': 0.667762917860413}. Best is trial 43 with value: 0.4718686361380252.\n",
      "regularization_factors, val_score: 0.469838:  15%|#####7                                | 3/20 [00:01<00:05,  2.85it/s]"
     ]
    },
    {
     "name": "stdout",
     "output_type": "stream",
     "text": [
      "[100]\tcv_agg's binary_logloss: 0.48407 + 0.114203\n",
      "[200]\tcv_agg's binary_logloss: 0.484982 + 0.11812\n"
     ]
    },
    {
     "name": "stderr",
     "output_type": "stream",
     "text": [
      "regularization_factors, val_score: 0.469838:  20%|#######6                              | 4/20 [00:01<00:06,  2.65it/s][I 2021-03-17 16:07:34,200] Trial 46 finished with value: 0.4817397318522172 and parameters: {'lambda_l1': 2.566692369041851, 'lambda_l2': 5.8359453797165486e-08}. Best is trial 43 with value: 0.4718686361380252.\n",
      "regularization_factors, val_score: 0.469838:  20%|#######6                              | 4/20 [00:01<00:06,  2.65it/s]"
     ]
    },
    {
     "name": "stdout",
     "output_type": "stream",
     "text": [
      "[100]\tcv_agg's binary_logloss: 0.523945 + 0.148098\n"
     ]
    },
    {
     "name": "stderr",
     "output_type": "stream",
     "text": [
      "regularization_factors, val_score: 0.469838:  25%|#########5                            | 5/20 [00:01<00:05,  2.79it/s][I 2021-03-17 16:07:34,515] Trial 47 finished with value: 0.47287584674010114 and parameters: {'lambda_l1': 1.2710139157848084e-07, 'lambda_l2': 0.0020636042736970313}. Best is trial 43 with value: 0.4718686361380252.\n",
      "regularization_factors, val_score: 0.469838:  25%|#########5                            | 5/20 [00:01<00:05,  2.79it/s]"
     ]
    },
    {
     "name": "stdout",
     "output_type": "stream",
     "text": [
      "[100]\tcv_agg's binary_logloss: 0.525527 + 0.148464\n"
     ]
    },
    {
     "name": "stderr",
     "output_type": "stream",
     "text": [
      "regularization_factors, val_score: 0.469838:  30%|###########4                          | 6/20 [00:02<00:04,  2.89it/s][I 2021-03-17 16:07:34,831] Trial 48 finished with value: 0.47412817831684173 and parameters: {'lambda_l1': 0.002747067077697342, 'lambda_l2': 0.0004673114479495174}. Best is trial 43 with value: 0.4718686361380252.\n",
      "regularization_factors, val_score: 0.469838:  30%|###########4                          | 6/20 [00:02<00:04,  2.89it/s]"
     ]
    },
    {
     "name": "stdout",
     "output_type": "stream",
     "text": [
      "[100]\tcv_agg's binary_logloss: 0.52844 + 0.167297\n"
     ]
    },
    {
     "name": "stderr",
     "output_type": "stream",
     "text": [
      "regularization_factors, val_score: 0.469838:  35%|#############3                        | 7/20 [00:02<00:04,  2.99it/s][I 2021-03-17 16:07:35,139] Trial 49 finished with value: 0.47420572249805837 and parameters: {'lambda_l1': 8.426887825389467e-06, 'lambda_l2': 0.08320101613279185}. Best is trial 43 with value: 0.4718686361380252.\n",
      "regularization_factors, val_score: 0.469838:  35%|#############3                        | 7/20 [00:02<00:04,  2.99it/s]"
     ]
    },
    {
     "name": "stdout",
     "output_type": "stream",
     "text": [
      "[100]\tcv_agg's binary_logloss: 0.519512 + 0.158353\n"
     ]
    },
    {
     "name": "stderr",
     "output_type": "stream",
     "text": [
      "regularization_factors, val_score: 0.469838:  40%|###############2                      | 8/20 [00:02<00:03,  3.04it/s][I 2021-03-17 16:07:35,455] Trial 50 finished with value: 0.47091406956018467 and parameters: {'lambda_l1': 0.015409545605124492, 'lambda_l2': 3.0830432258012067e-06}. Best is trial 50 with value: 0.47091406956018467.\n",
      "regularization_factors, val_score: 0.469838:  40%|###############2                      | 8/20 [00:02<00:03,  3.04it/s]"
     ]
    },
    {
     "name": "stdout",
     "output_type": "stream",
     "text": [
      "[100]\tcv_agg's binary_logloss: 0.526666 + 0.152655\n"
     ]
    },
    {
     "name": "stderr",
     "output_type": "stream",
     "text": [
      "regularization_factors, val_score: 0.469838:  45%|#################1                    | 9/20 [00:03<00:03,  3.08it/s][I 2021-03-17 16:07:35,771] Trial 51 finished with value: 0.47453488500237534 and parameters: {'lambda_l1': 0.015383299124996003, 'lambda_l2': 2.385367464135871e-06}. Best is trial 50 with value: 0.47091406956018467.\n",
      "regularization_factors, val_score: 0.469838:  45%|#################1                    | 9/20 [00:03<00:03,  3.08it/s]"
     ]
    },
    {
     "name": "stdout",
     "output_type": "stream",
     "text": [
      "[100]\tcv_agg's binary_logloss: 0.524974 + 0.1611\n"
     ]
    },
    {
     "name": "stderr",
     "output_type": "stream",
     "text": [
      "regularization_factors, val_score: 0.469838:  50%|##################5                  | 10/20 [00:03<00:03,  3.09it/s][I 2021-03-17 16:07:36,094] Trial 52 finished with value: 0.47441421326814365 and parameters: {'lambda_l1': 0.09844963484231288, 'lambda_l2': 1.820577686330316e-08}. Best is trial 50 with value: 0.47091406956018467.\n",
      "regularization_factors, val_score: 0.469838:  50%|##################5                  | 10/20 [00:03<00:03,  3.09it/s]"
     ]
    },
    {
     "name": "stdout",
     "output_type": "stream",
     "text": [
      "[100]\tcv_agg's binary_logloss: 0.527215 + 0.163905\n"
     ]
    },
    {
     "name": "stderr",
     "output_type": "stream",
     "text": [
      "regularization_factors, val_score: 0.469838:  55%|####################3                | 11/20 [00:03<00:02,  3.05it/s][I 2021-03-17 16:07:36,430] Trial 53 finished with value: 0.47239521065912876 and parameters: {'lambda_l1': 0.0003134574219910482, 'lambda_l2': 7.77256998253318e-06}. Best is trial 50 with value: 0.47091406956018467.\n",
      "regularization_factors, val_score: 0.469838:  55%|####################3                | 11/20 [00:03<00:02,  3.05it/s]"
     ]
    },
    {
     "name": "stdout",
     "output_type": "stream",
     "text": [
      "[100]\tcv_agg's binary_logloss: 0.502313 + 0.0905035\n"
     ]
    },
    {
     "name": "stderr",
     "output_type": "stream",
     "text": [
      "regularization_factors, val_score: 0.469838:  60%|######################2              | 12/20 [00:04<00:02,  3.30it/s][I 2021-03-17 16:07:36,674] Trial 54 finished with value: 0.502093199710204 and parameters: {'lambda_l1': 8.344978264689278, 'lambda_l2': 2.8030675496121787e-05}. Best is trial 50 with value: 0.47091406956018467.\n",
      "regularization_factors, val_score: 0.469838:  60%|######################2              | 12/20 [00:04<00:02,  3.30it/s]"
     ]
    },
    {
     "name": "stdout",
     "output_type": "stream",
     "text": [
      "[100]\tcv_agg's binary_logloss: 0.528887 + 0.161027\n"
     ]
    },
    {
     "name": "stderr",
     "output_type": "stream",
     "text": [
      "regularization_factors, val_score: 0.469838:  65%|########################             | 13/20 [00:04<00:02,  3.20it/s][I 2021-03-17 16:07:37,007] Trial 55 finished with value: 0.472642298994632 and parameters: {'lambda_l1': 4.813837257047645e-06, 'lambda_l2': 1.3186831511525128e-07}. Best is trial 50 with value: 0.47091406956018467.\n",
      "regularization_factors, val_score: 0.469838:  65%|########################             | 13/20 [00:04<00:02,  3.20it/s]"
     ]
    },
    {
     "name": "stdout",
     "output_type": "stream",
     "text": [
      "[100]\tcv_agg's binary_logloss: 0.521179 + 0.161257\n"
     ]
    },
    {
     "name": "stderr",
     "output_type": "stream",
     "text": [
      "regularization_factors, val_score: 0.469171:  70%|#########################9           | 14/20 [00:04<00:01,  3.17it/s][I 2021-03-17 16:07:37,333] Trial 56 finished with value: 0.46917147561212824 and parameters: {'lambda_l1': 0.0014930812583200212, 'lambda_l2': 0.020538403991538386}. Best is trial 56 with value: 0.46917147561212824.\n",
      "regularization_factors, val_score: 0.469171:  70%|#########################9           | 14/20 [00:04<00:01,  3.17it/s]"
     ]
    },
    {
     "name": "stdout",
     "output_type": "stream",
     "text": [
      "[100]\tcv_agg's binary_logloss: 0.533977 + 0.163867\n"
     ]
    },
    {
     "name": "stderr",
     "output_type": "stream",
     "text": [
      "regularization_factors, val_score: 0.469171:  75%|###########################7         | 15/20 [00:04<00:01,  3.19it/s][I 2021-03-17 16:07:37,640] Trial 57 finished with value: 0.47672142227930514 and parameters: {'lambda_l1': 4.077581168527762e-07, 'lambda_l2': 0.010590997402731242}. Best is trial 56 with value: 0.46917147561212824.\n",
      "regularization_factors, val_score: 0.469171:  75%|###########################7         | 15/20 [00:04<00:01,  3.19it/s]"
     ]
    },
    {
     "name": "stdout",
     "output_type": "stream",
     "text": [
      "[100]\tcv_agg's binary_logloss: 0.509945 + 0.140507\n"
     ]
    },
    {
     "name": "stderr",
     "output_type": "stream",
     "text": [
      "regularization_factors, val_score: 0.469171:  80%|#############################6       | 16/20 [00:05<00:01,  3.18it/s][I 2021-03-17 16:07:37,958] Trial 58 finished with value: 0.4796651015462869 and parameters: {'lambda_l1': 0.00030702307217311993, 'lambda_l2': 0.8456504022744384}. Best is trial 56 with value: 0.46917147561212824.\n",
      "regularization_factors, val_score: 0.469171:  80%|#############################6       | 16/20 [00:05<00:01,  3.18it/s]"
     ]
    },
    {
     "name": "stdout",
     "output_type": "stream",
     "text": [
      "[100]\tcv_agg's binary_logloss: 0.479749 + 0.109515\n",
      "[200]\tcv_agg's binary_logloss: 0.485812 + 0.116477\n"
     ]
    },
    {
     "name": "stderr",
     "output_type": "stream",
     "text": [
      "regularization_factors, val_score: 0.469171:  85%|###############################4     | 17/20 [00:05<00:01,  2.88it/s][I 2021-03-17 16:07:38,379] Trial 59 finished with value: 0.47891422912997894 and parameters: {'lambda_l1': 0.002208885232830817, 'lambda_l2': 9.027625213967172}. Best is trial 56 with value: 0.46917147561212824.\n",
      "regularization_factors, val_score: 0.469171:  85%|###############################4     | 17/20 [00:05<00:01,  2.88it/s]"
     ]
    },
    {
     "name": "stdout",
     "output_type": "stream",
     "text": [
      "[100]\tcv_agg's binary_logloss: 0.51696 + 0.148297\n"
     ]
    },
    {
     "name": "stderr",
     "output_type": "stream",
     "text": [
      "regularization_factors, val_score: 0.469171:  90%|#################################3   | 18/20 [00:06<00:00,  2.99it/s][I 2021-03-17 16:07:38,686] Trial 60 finished with value: 0.4781224791869111 and parameters: {'lambda_l1': 0.2746736719027307, 'lambda_l2': 0.05243612706428404}. Best is trial 56 with value: 0.46917147561212824.\n",
      "regularization_factors, val_score: 0.469171:  90%|#################################3   | 18/20 [00:06<00:00,  2.99it/s]"
     ]
    },
    {
     "name": "stdout",
     "output_type": "stream",
     "text": [
      "[100]\tcv_agg's binary_logloss: 0.527433 + 0.164341\n"
     ]
    },
    {
     "name": "stderr",
     "output_type": "stream",
     "text": [
      "regularization_factors, val_score: 0.469171:  95%|###################################1 | 19/20 [00:06<00:00,  3.04it/s][I 2021-03-17 16:07:39,002] Trial 61 finished with value: 0.47238459639676267 and parameters: {'lambda_l1': 0.02190415780212543, 'lambda_l2': 0.00013667780498110123}. Best is trial 56 with value: 0.46917147561212824.\n",
      "regularization_factors, val_score: 0.469171:  95%|###################################1 | 19/20 [00:06<00:00,  3.04it/s]"
     ]
    },
    {
     "name": "stdout",
     "output_type": "stream",
     "text": [
      "[100]\tcv_agg's binary_logloss: 0.531813 + 0.158665\n"
     ]
    },
    {
     "name": "stderr",
     "output_type": "stream",
     "text": [
      "regularization_factors, val_score: 0.469171: 100%|#####################################| 20/20 [00:06<00:00,  3.07it/s][I 2021-03-17 16:07:39,319] Trial 62 finished with value: 0.4738900083887965 and parameters: {'lambda_l1': 0.002815654846382552, 'lambda_l2': 4.116319793417687e-07}. Best is trial 56 with value: 0.46917147561212824.\n",
      "regularization_factors, val_score: 0.469171: 100%|#####################################| 20/20 [00:06<00:00,  3.00it/s]\n",
      "min_data_in_leaf, val_score: 0.469171:   0%|                                                     | 0/5 [00:00<?, ?it/s]"
     ]
    },
    {
     "name": "stdout",
     "output_type": "stream",
     "text": [
      "[100]\tcv_agg's binary_logloss: 0.502585 + 0.0989379\n",
      "[200]\tcv_agg's binary_logloss: 0.50122 + 0.103646\n",
      "[300]\tcv_agg's binary_logloss: 0.504466 + 0.110152\n"
     ]
    },
    {
     "name": "stderr",
     "output_type": "stream",
     "text": [
      "min_data_in_leaf, val_score: 0.469171:  20%|#########                                    | 1/5 [00:00<00:01,  2.33it/s][I 2021-03-17 16:07:39,756] Trial 63 finished with value: 0.49881798683012635 and parameters: {'min_child_samples': 100}. Best is trial 63 with value: 0.49881798683012635.\n",
      "min_data_in_leaf, val_score: 0.469171:  20%|#########                                    | 1/5 [00:00<00:01,  2.33it/s]"
     ]
    },
    {
     "name": "stdout",
     "output_type": "stream",
     "text": [
      "[100]\tcv_agg's binary_logloss: 0.625232 + 0.212548\n"
     ]
    },
    {
     "name": "stderr",
     "output_type": "stream",
     "text": [
      "min_data_in_leaf, val_score: 0.469171:  40%|##################                           | 2/5 [00:00<00:01,  2.59it/s][I 2021-03-17 16:07:40,041] Trial 64 finished with value: 0.4868298468787408 and parameters: {'min_child_samples': 5}. Best is trial 64 with value: 0.4868298468787408.\n",
      "min_data_in_leaf, val_score: 0.469171:  40%|##################                           | 2/5 [00:00<00:01,  2.59it/s]"
     ]
    },
    {
     "name": "stdout",
     "output_type": "stream",
     "text": [
      "[100]\tcv_agg's binary_logloss: 0.499002 + 0.122901\n",
      "[200]\tcv_agg's binary_logloss: 0.510362 + 0.128833\n"
     ]
    },
    {
     "name": "stderr",
     "output_type": "stream",
     "text": [
      "min_data_in_leaf, val_score: 0.469171:  60%|###########################                  | 3/5 [00:01<00:00,  2.64it/s][I 2021-03-17 16:07:40,400] Trial 65 finished with value: 0.49495938462371186 and parameters: {'min_child_samples': 50}. Best is trial 64 with value: 0.4868298468787408.\n",
      "min_data_in_leaf, val_score: 0.469171:  60%|###########################                  | 3/5 [00:01<00:00,  2.64it/s]"
     ]
    },
    {
     "name": "stdout",
     "output_type": "stream",
     "text": [
      "[100]\tcv_agg's binary_logloss: 0.59717 + 0.203043\n"
     ]
    },
    {
     "name": "stderr",
     "output_type": "stream",
     "text": [
      "min_data_in_leaf, val_score: 0.469171:  80%|####################################         | 4/5 [00:01<00:00,  2.90it/s][I 2021-03-17 16:07:40,666] Trial 66 finished with value: 0.48328481607886997 and parameters: {'min_child_samples': 10}. Best is trial 66 with value: 0.48328481607886997.\n",
      "min_data_in_leaf, val_score: 0.469171:  80%|####################################         | 4/5 [00:01<00:00,  2.90it/s]"
     ]
    },
    {
     "name": "stdout",
     "output_type": "stream",
     "text": [
      "[100]\tcv_agg's binary_logloss: 0.523624 + 0.153703\n"
     ]
    },
    {
     "name": "stderr",
     "output_type": "stream",
     "text": [
      "min_data_in_leaf, val_score: 0.469171: 100%|#############################################| 5/5 [00:01<00:00,  3.03it/s][I 2021-03-17 16:07:40,961] Trial 67 finished with value: 0.48372378105435665 and parameters: {'min_child_samples': 25}. Best is trial 66 with value: 0.48328481607886997.\n",
      "min_data_in_leaf, val_score: 0.469171: 100%|#############################################| 5/5 [00:01<00:00,  3.05it/s]\n"
     ]
    },
    {
     "name": "stdout",
     "output_type": "stream",
     "text": [
      "========================================================================================================================================================================================================\n",
      "{'objective': 'binary', 'metric': 'binary_logloss', 'random_seed': 0, 'lambda_l1': 0.0014930812583200212, 'lambda_l2': 0.020538403991538386, 'num_leaves': 31, 'feature_fraction': 0.8999999999999999, 'bagging_fraction': 0.7505667623130245, 'bagging_freq': 1, 'min_child_samples': 20}\n",
      "Training until validation scores don't improve for 20 rounds.\n",
      "Early stopping, best iteration is:\n",
      "[50]\ttraining's binary_logloss: 0.249938\tvalid_1's binary_logloss: 0.371088\n",
      "  score AUC Train : 0.973416   score AUC Valid : 0.899144\n",
      "  score precision Train : 0.930328   score precision Valid : 0.841270\n",
      "  score recall Train : 0.831502   score recall Valid : 0.768116\n",
      "Training until validation scores don't improve for 20 rounds.\n",
      "Early stopping, best iteration is:\n",
      "[39]\ttraining's binary_logloss: 0.271293\tvalid_1's binary_logloss: 0.364988\n",
      "  score AUC Train : 0.965802   score AUC Valid : 0.904947\n",
      "  score precision Train : 0.921488   score precision Valid : 0.907407\n",
      "  score recall Train : 0.813869   score recall Valid : 0.720588\n",
      "Training until validation scores don't improve for 20 rounds.\n",
      "Early stopping, best iteration is:\n",
      "[39]\ttraining's binary_logloss: 0.277378\tvalid_1's binary_logloss: 0.394631\n",
      "  score AUC Train : 0.962635   score AUC Valid : 0.887901\n",
      "  score precision Train : 0.916318   score precision Valid : 0.822581\n",
      "  score recall Train : 0.799270   score recall Valid : 0.750000\n",
      "Training until validation scores don't improve for 20 rounds.\n",
      "Early stopping, best iteration is:\n",
      "[44]\ttraining's binary_logloss: 0.264998\tvalid_1's binary_logloss: 0.411959\n",
      "  score AUC Train : 0.966979   score AUC Valid : 0.869719\n",
      "  score precision Train : 0.893701   score precision Valid : 0.813559\n",
      "  score recall Train : 0.828467   score recall Valid : 0.705882\n",
      "Training until validation scores don't improve for 20 rounds.\n",
      "Early stopping, best iteration is:\n",
      "[37]\ttraining's binary_logloss: 0.272968\tvalid_1's binary_logloss: 0.482083\n",
      "  score AUC Train : 0.962046   score AUC Valid : 0.824691\n",
      "  score precision Train : 0.916318   score precision Valid : 0.761905\n",
      "  score recall Train : 0.802198   score recall Valid : 0.695652\n",
      "****************************************\n",
      "train AUC Score : 0.884078\n",
      "valid AUC Score : 0.816676\n",
      "train AUC Score - valid Score : 0.067402\n",
      "train precision Score : 0.915630\n",
      "valid precision Score : 0.827243\n",
      "train precision Score - valid Score : 0.088388\n",
      "train recall Score : 0.815061\n",
      "valid recall Score : 0.728070\n",
      "train recall Score - valid Score : 0.086991\n"
     ]
    },
    {
     "data": {
      "image/png": "[encoded data removed]",
      "text/plain": [
       "<Figure size 1008x288 with 1 Axes>"
      ]
     },
     "metadata": {
      "needs_background": "light"
     },
     "output_type": "display_data"
    }
   ],
   "source": [
    "kf = StratifiedKFold(n_splits=5, shuffle=True, random_state=0)\n",
    "\n",
    "train_X_tar = smoothed_target_encoding_for_train(train_X, train_y, kf, [\"Sex\",\"Cabin\", \"Embarked\"])\n",
    "test_X_tar = smoothed_target_encoding_for_test(test_X.head(), split, [\"Sex\",\"Cabin\", \"Embarked\"])\n",
    "\n",
    "best_params = get_bestparams_optuna(train_X_tar, train_y, kf)\n",
    "\n",
    "lgbm = lgb.LGBMClassifier(**best_params)\n",
    "\n",
    "pred_train, preds_test, lgbm = predict_cv(lgbm, train_X_tar, train_y, test_X_tar, kf, [\"Sex\",\"Cabin\", \"Embarked\"])"
   ]
  },
  {
   "cell_type": "code",
   "execution_count": 11,
   "metadata": {},
   "outputs": [
    {
     "data": {
      "text/html": [
       "<div>\n",
       "<style scoped>\n",
       "    .dataframe tbody tr th:only-of-type {\n",
       "        vertical-align: middle;\n",
       "    }\n",
       "\n",
       "    .dataframe tbody tr th {\n",
       "        vertical-align: top;\n",
       "    }\n",
       "\n",
       "    .dataframe thead th {\n",
       "        text-align: right;\n",
       "    }\n",
       "</style>\n",
       "<table border=\"1\" class=\"dataframe\">\n",
       "  <thead>\n",
       "    <tr style=\"text-align: right;\">\n",
       "      <th></th>\n",
       "      <th>PassengerId</th>\n",
       "      <th>Survived</th>\n",
       "    </tr>\n",
       "  </thead>\n",
       "  <tbody>\n",
       "    <tr>\n",
       "      <th>0</th>\n",
       "      <td>892</td>\n",
       "      <td>0.0</td>\n",
       "    </tr>\n",
       "    <tr>\n",
       "      <th>1</th>\n",
       "      <td>893</td>\n",
       "      <td>0.0</td>\n",
       "    </tr>\n",
       "    <tr>\n",
       "      <th>2</th>\n",
       "      <td>894</td>\n",
       "      <td>0.0</td>\n",
       "    </tr>\n",
       "    <tr>\n",
       "      <th>3</th>\n",
       "      <td>895</td>\n",
       "      <td>0.0</td>\n",
       "    </tr>\n",
       "    <tr>\n",
       "      <th>4</th>\n",
       "      <td>896</td>\n",
       "      <td>0.0</td>\n",
       "    </tr>\n",
       "    <tr>\n",
       "      <th>...</th>\n",
       "      <td>...</td>\n",
       "      <td>...</td>\n",
       "    </tr>\n",
       "    <tr>\n",
       "      <th>413</th>\n",
       "      <td>1305</td>\n",
       "      <td>NaN</td>\n",
       "    </tr>\n",
       "    <tr>\n",
       "      <th>414</th>\n",
       "      <td>1306</td>\n",
       "      <td>NaN</td>\n",
       "    </tr>\n",
       "    <tr>\n",
       "      <th>415</th>\n",
       "      <td>1307</td>\n",
       "      <td>NaN</td>\n",
       "    </tr>\n",
       "    <tr>\n",
       "      <th>416</th>\n",
       "      <td>1308</td>\n",
       "      <td>NaN</td>\n",
       "    </tr>\n",
       "    <tr>\n",
       "      <th>417</th>\n",
       "      <td>1309</td>\n",
       "      <td>NaN</td>\n",
       "    </tr>\n",
       "  </tbody>\n",
       "</table>\n",
       "<p>418 rows × 2 columns</p>\n",
       "</div>"
      ],
      "text/plain": [
       "     PassengerId  Survived\n",
       "0            892       0.0\n",
       "1            893       0.0\n",
       "2            894       0.0\n",
       "3            895       0.0\n",
       "4            896       0.0\n",
       "..           ...       ...\n",
       "413         1305       NaN\n",
       "414         1306       NaN\n",
       "415         1307       NaN\n",
       "416         1308       NaN\n",
       "417         1309       NaN\n",
       "\n",
       "[418 rows x 2 columns]"
      ]
     },
     "execution_count": 11,
     "metadata": {},
     "output_type": "execute_result"
    }
   ],
   "source": [
    "sub = pd.read_csv('gender_submission.csv')\n",
    "sub['Survived'] = preds_test[0].astype(int)\n",
    "sub"
   ]
  },
  {
   "cell_type": "code",
   "execution_count": 12,
   "metadata": {},
   "outputs": [],
   "source": [
    "#sub.to_csv('optuna_target_encoded.csv', index=None)"
   ]
  },
  {
   "cell_type": "code",
   "execution_count": null,
   "metadata": {},
   "outputs": [],
   "source": []
  },
  {
   "cell_type": "code",
   "execution_count": null,
   "metadata": {},
   "outputs": [],
   "source": []
  },
  {
   "cell_type": "code",
   "execution_count": null,
   "metadata": {},
   "outputs": [],
   "source": []
  },
  {
   "cell_type": "code",
   "execution_count": null,
   "metadata": {},
   "outputs": [],
   "source": []
  },
  {
   "cell_type": "code",
   "execution_count": null,
   "metadata": {},
   "outputs": [],
   "source": []
  },
  {
   "cell_type": "code",
   "execution_count": null,
   "metadata": {},
   "outputs": [],
   "source": []
  },
  {
   "cell_type": "code",
   "execution_count": null,
   "metadata": {},
   "outputs": [],
   "source": []
  },
  {
   "cell_type": "code",
   "execution_count": null,
   "metadata": {},
   "outputs": [],
   "source": []
  },
  {
   "cell_type": "code",
   "execution_count": null,
   "metadata": {},
   "outputs": [],
   "source": []
  },
  {
   "cell_type": "code",
   "execution_count": null,
   "metadata": {},
   "outputs": [],
   "source": []
  },
  {
   "cell_type": "code",
   "execution_count": null,
   "metadata": {},
   "outputs": [],
   "source": []
  },
  {
   "cell_type": "code",
   "execution_count": null,
   "metadata": {},
   "outputs": [],
   "source": []
  }
 ],
 "metadata": {
  "kernelspec": {
   "display_name": "Python 3",
   "language": "python",
   "name": "python3"
  },
  "language_info": {
   "codemirror_mode": {
    "name": "ipython",
    "version": 3
   },
   "file_extension": ".py",
   "mimetype": "text/x-python",
   "name": "python",
   "nbconvert_exporter": "python",
   "pygments_lexer": "ipython3",
   "version": "3.8.3"
  }
 },
 "nbformat": 4,
 "nbformat_minor": 4
}
